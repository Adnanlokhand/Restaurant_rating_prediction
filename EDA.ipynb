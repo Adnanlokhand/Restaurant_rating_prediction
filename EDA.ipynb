{
 "cells": [
  {
   "cell_type": "markdown",
   "id": "2d89e461-02f4-432a-b1de-6cfb56850426",
   "metadata": {
    "tags": []
   },
   "source": [
    "# Mission Rapid Analysis 🌎 (40 points)\n",
    "\n",
    "\n",
    "### 1.1 Overview ✉️\n",
    "\n",
    "Welcome to your mission! In this notebook, you will download a dataset containing restaurants' information in the state of California, US. The dataset will then be transformed, processed and prepared in a required format. This clean dataset will then be used to answer some analytical questions and create a few data visualizations in Python.\n",
    "\n",
    "This is a template notebook that has some code already filled-in to help you on your way. There are also cells that require you to fill in the python code to solve specific problems. There are sections of the notebook that contain a points tally for code written. \n",
    "\n",
    "**Each section of this notebook is largely independent, so if you get stuck on a problem you can always move on to the next one.**"
   ]
  },
  {
   "cell_type": "markdown",
   "id": "ba460626-7d60-4959-b7bb-4609817482d6",
   "metadata": {},
   "source": [
    "### 1.2 Tools & Technologies 🪛\n",
    "\n",
    "- This exercise will be carried out using the [Python](https://www.python.org/) programming language and will rely hevily on the [Pandas](https://pandas.pydata.org/) library for data manipulation.\n",
    "- You may use any of [Matplotlib](https://matplotlib.org/), [Seaborn](https://seaborn.pydata.org/) or [Plotly](https://plotly.com/python/) packages for data visualization.\n",
    "- We will be using [Jupyter notebooks](https://jupyter.org/) to run Python code in order to view and interact better with our data and visualizations.\n",
    "- You are free to use [Google Colab](https://colab.research.google.com/) which provides an easy-to-use Jupyter interface.\n",
    "- When not in Colab, it is recommended to run this Jupyter Notebook within an [Anaconda](https://continuum.io/) environment\n",
    "- You can use any other Python packages that you deem fit for this project.\n",
    "\n",
    "> ⚠ **Ensure that your Python version is 3.9 or higher**\n",
    "\n",
    "![](https://upload.wikimedia.org/wikipedia/commons/1/1b/Blue_Python_3.9_Shield_Badge.svg)\n",
    "\n",
    "**Language**\n",
    "\n",
    "![Python](https://img.shields.io/badge/python-3670A0?style=for-the-badge&logo=python&logoColor=ffdd54)\n",
    "\n",
    "**Environments & Packages**\n",
    "\n",
    "![Anaconda](https://img.shields.io/badge/Anaconda-%2344A833.svg?style=for-the-badge&logo=anaconda&logoColor=white)\n",
    "![Jupyter Notebook](https://img.shields.io/badge/jupyter-%23FA0F00.svg?style=for-the-badge&logo=jupyter&logoColor=white)\n",
    "![Pandas](https://img.shields.io/badge/pandas-%23150458.svg?style=for-the-badge&logo=pandas&logoColor=white)\n",
    "![Matplotlib](https://img.shields.io/badge/Matplotlib-%23ffffff.svg?style=for-the-badge&logo=Matplotlib&logoColor=black)\n",
    "![Plotly](https://img.shields.io/badge/Plotly-%233F4F75.svg?style=for-the-badge&logo=plotly&logoColor=white)\n"
   ]
  },
  {
   "cell_type": "markdown",
   "id": "383edc6e-9462-4b0b-b1aa-ca33055b38e3",
   "metadata": {},
   "source": [
    "### 2.1 Read California Restaurants 🔍 (3 points)\n",
    "\n",
    "In this section, we will load the dataset from this link :\n",
    "\n",
    "https://rapidopso365-my.sharepoint.com/:u:/g/personal/pushkar_ambatkar_rapidops_com/EZneJNDj5f1CrIY-ZjMDxakBJOYJjI2VAQqSZgBYdkCzjQ?e=2tpkQM\n",
    "\n",
    "\n",
    "- Ensure that pandas and plotly are installed (possibly via pip or poetry)\n",
    "- The dataset is about 300 MB in size and time-to-download depends on internet speed and availability\n",
    "- Download the dataset using Python into this notebook and load it into a pandas dataframe\n"
   ]
  },
  {
   "cell_type": "code",
   "execution_count": 18,
   "id": "ed554fdc-0de7-4cd4-8e93-725038033590",
   "metadata": {},
   "outputs": [],
   "source": [
    "from matplotlib import pyplot as plt\n",
    "%matplotlib inline\n",
    "\n",
    "import pandas as pd\n",
    "import plotly.express as px\n",
    "import numpy as np\n",
    "\n",
    "CELL_HEIGHT: int = 50\n",
    "\n",
    "# Initialize helpers to ignore pandas warnings and resize columns and cells\n",
    "pd.set_option(\"chained_assignment\", None)\n",
    "pd.set_option(\"display.max_rows\", 50)\n",
    "pd.set_option(\"display.max_columns\", 500)\n",
    "pd.set_option('display.max_colwidth', CELL_HEIGHT)"
   ]
  },
  {
   "cell_type": "code",
   "execution_count": 19,
   "id": "0e60d6b3-cea6-4a12-b85d-15748a6be4ea",
   "metadata": {},
   "outputs": [
    {
     "name": "stdout",
     "output_type": "stream",
     "text": [
      "CPU times: user 8.41 s, sys: 698 ms, total: 9.1 s\n",
      "Wall time: 9.07 s\n"
     ]
    }
   ],
   "source": [
    "%%time\n",
    "# import requests\n",
    "\n",
    "# # specify the URL of the dataset you want to download\n",
    "# url = \"https://rapidopso365-my.sharepoint.com/:u:/g/personal/pushkar_ambatkar_rapidops_com/EZneJNDj5f1CrIY-ZjMDxakBJOYJjI2VAQqSZgBYdkCzjQ?e=2tpkQM\"\n",
    "\n",
    "# # use the requests library to download the file\n",
    "# response = requests.get(url)\n",
    "\n",
    "\n",
    "# with open('california_restaurants.json', 'wb') as f:\n",
    "#     f.write(response.content)\n",
    "#     print('Dataset downloaded successfully.')\n",
    "\n",
    "df = pd.read_json('california_restaurants.json')"
   ]
  },
  {
   "cell_type": "markdown",
   "id": "521e6f26-8256-4f7b-b662-4580448d07a0",
   "metadata": {},
   "source": [
    "Create a restaurant ID column to uniquely index each restaurant\n"
   ]
  },
  {
   "cell_type": "code",
   "execution_count": 20,
   "id": "d2eb6ee1-51cb-4c01-8bee-9bb87ff6c7bb",
   "metadata": {},
   "outputs": [
    {
     "data": {
      "text/html": [
       "<div>\n",
       "<style scoped>\n",
       "    .dataframe tbody tr th:only-of-type {\n",
       "        vertical-align: middle;\n",
       "    }\n",
       "\n",
       "    .dataframe tbody tr th {\n",
       "        vertical-align: top;\n",
       "    }\n",
       "\n",
       "    .dataframe thead th {\n",
       "        text-align: right;\n",
       "    }\n",
       "</style>\n",
       "<table border=\"1\" class=\"dataframe\">\n",
       "  <thead>\n",
       "    <tr style=\"text-align: right;\">\n",
       "      <th></th>\n",
       "      <th>country</th>\n",
       "      <th>subregion</th>\n",
       "      <th>city</th>\n",
       "      <th>brand_name</th>\n",
       "      <th>categories</th>\n",
       "      <th>latitude</th>\n",
       "      <th>longitude</th>\n",
       "      <th>area</th>\n",
       "      <th>address</th>\n",
       "      <th>menu</th>\n",
       "      <th>description</th>\n",
       "      <th>public_transit</th>\n",
       "      <th>cross_street</th>\n",
       "      <th>restaurant_website</th>\n",
       "      <th>phone_number</th>\n",
       "      <th>primary_cuisine</th>\n",
       "      <th>dining_style</th>\n",
       "      <th>executive_chef_name</th>\n",
       "      <th>parking_info</th>\n",
       "      <th>dress_code</th>\n",
       "      <th>entertainment</th>\n",
       "      <th>operating_hours</th>\n",
       "      <th>price_range_id</th>\n",
       "      <th>price_range</th>\n",
       "      <th>payment_options</th>\n",
       "      <th>maximum_days_advance_for_reservation</th>\n",
       "      <th>rating</th>\n",
       "      <th>rating_count</th>\n",
       "      <th>rating_by_feature</th>\n",
       "      <th>rating_distribution</th>\n",
       "      <th>review_count</th>\n",
       "      <th>review_topics</th>\n",
       "      <th>awards</th>\n",
       "      <th>experiences</th>\n",
       "      <th>tags</th>\n",
       "      <th>editorial_lists</th>\n",
       "      <th>checklist</th>\n",
       "      <th>safety_precautions</th>\n",
       "      <th>order_online_link</th>\n",
       "      <th>facebook</th>\n",
       "      <th>menu_url</th>\n",
       "      <th>popular_dishes</th>\n",
       "      <th>daily_reservation_count</th>\n",
       "      <th>restaurant_id</th>\n",
       "    </tr>\n",
       "  </thead>\n",
       "  <tbody>\n",
       "    <tr>\n",
       "      <th>0</th>\n",
       "      <td>United States</td>\n",
       "      <td>California</td>\n",
       "      <td>Los Angeles</td>\n",
       "      <td>Luv2Eat Thai Bistro</td>\n",
       "      <td>[Thai]</td>\n",
       "      <td>34.097510</td>\n",
       "      <td>-118.335921</td>\n",
       "      <td>Hollywood</td>\n",
       "      <td>6660 W Sunset Blvd, Ste P, CA, Los Angeles, 90...</td>\n",
       "      <td>[{'name': 'Main Menu', 'sections': [{'name': '...</td>\n",
       "      <td>Luv2Eat Thai Bistro is located in Los Angeles,...</td>\n",
       "      <td>None</td>\n",
       "      <td>None</td>\n",
       "      <td>http://www.luv2eatthai.com/</td>\n",
       "      <td>(323) 498-5835</td>\n",
       "      <td>Thai</td>\n",
       "      <td>Casual Dining</td>\n",
       "      <td>None</td>\n",
       "      <td>Street Parking</td>\n",
       "      <td>Casual Dress</td>\n",
       "      <td>None</td>\n",
       "      <td>Lunch\\nDaily 11:00 am–3:30 pm\\nDinner\\nDaily 4...</td>\n",
       "      <td>2</td>\n",
       "      <td>$30 and under</td>\n",
       "      <td>[AMEX, Discover, MasterCard, Visa]</td>\n",
       "      <td>90</td>\n",
       "      <td>4.6</td>\n",
       "      <td>136</td>\n",
       "      <td>{'food': 4.7, 'noise': 2.0, 'value': 4.6, 'ser...</td>\n",
       "      <td>[2, 3, 4, 23, 104]</td>\n",
       "      <td>18</td>\n",
       "      <td>[Spicy, Casual, Neighborhood Gem]</td>\n",
       "      <td>[]</td>\n",
       "      <td>[]</td>\n",
       "      <td>[Delivery, Gluten-free Options, Late Night, No...</td>\n",
       "      <td>[]</td>\n",
       "      <td>{'bar': False, 'counter': False, 'gifting': No...</td>\n",
       "      <td>{'cleanMenus': None, 'limitedSeating': None, '...</td>\n",
       "      <td>None</td>\n",
       "      <td>http://www.facebook.com/luv2eatthaibistro/</td>\n",
       "      <td>http://sappclub.com/restaurant.aspx?r=205</td>\n",
       "      <td>[]</td>\n",
       "      <td>NaN</td>\n",
       "      <td>1</td>\n",
       "    </tr>\n",
       "    <tr>\n",
       "      <th>1</th>\n",
       "      <td>United States</td>\n",
       "      <td>California</td>\n",
       "      <td>Sherman Oaks</td>\n",
       "      <td>Jerry's Famous Deli</td>\n",
       "      <td>[American]</td>\n",
       "      <td>34.154596</td>\n",
       "      <td>-118.448700</td>\n",
       "      <td>Sherman Oaks</td>\n",
       "      <td>None</td>\n",
       "      <td>[{'name': 'Sample Menu', 'sections': [{'name':...</td>\n",
       "      <td>&lt;p&gt;Feast on delicious grub at Jerry's Famous D...</td>\n",
       "      <td>None</td>\n",
       "      <td>None</td>\n",
       "      <td>http://www.jerrysfamousdeli.com/</td>\n",
       "      <td>(818) 905-5774</td>\n",
       "      <td>American</td>\n",
       "      <td>Casual Dining</td>\n",
       "      <td>None</td>\n",
       "      <td>None</td>\n",
       "      <td>Business Casual</td>\n",
       "      <td>None</td>\n",
       "      <td>None</td>\n",
       "      <td>2</td>\n",
       "      <td>$30 and under</td>\n",
       "      <td>[]</td>\n",
       "      <td>90</td>\n",
       "      <td>0.0</td>\n",
       "      <td>0</td>\n",
       "      <td>{'food': 0.0, 'noise': 0.0, 'value': 0.0, 'ser...</td>\n",
       "      <td>[0, 0, 0, 0, 0]</td>\n",
       "      <td>0</td>\n",
       "      <td>[]</td>\n",
       "      <td>[]</td>\n",
       "      <td>[]</td>\n",
       "      <td>[]</td>\n",
       "      <td>[]</td>\n",
       "      <td>{'bar': None, 'counter': None, 'gifting': None...</td>\n",
       "      <td>{'cleanMenus': None, 'limitedSeating': None, '...</td>\n",
       "      <td>None</td>\n",
       "      <td>None</td>\n",
       "      <td>None</td>\n",
       "      <td>[]</td>\n",
       "      <td>NaN</td>\n",
       "      <td>2</td>\n",
       "    </tr>\n",
       "    <tr>\n",
       "      <th>2</th>\n",
       "      <td>United States</td>\n",
       "      <td>California</td>\n",
       "      <td>Pasadena</td>\n",
       "      <td>Terrace Sushi</td>\n",
       "      <td>[Spanish]</td>\n",
       "      <td>34.145800</td>\n",
       "      <td>-118.142900</td>\n",
       "      <td>Pasadena</td>\n",
       "      <td>443 E Colorado Blvd, , CA, Pasadena, 91101, Un...</td>\n",
       "      <td>[{'name': 'Main Menu', 'sections': [{'name': '...</td>\n",
       "      <td>&lt;p&gt;Terrace Sushi serves Japanese cuisines to i...</td>\n",
       "      <td>None</td>\n",
       "      <td>None</td>\n",
       "      <td>None</td>\n",
       "      <td>(626) 584-0503</td>\n",
       "      <td>Spanish</td>\n",
       "      <td>Casual Dining</td>\n",
       "      <td>None</td>\n",
       "      <td>None</td>\n",
       "      <td>Business Casual</td>\n",
       "      <td>None</td>\n",
       "      <td>None</td>\n",
       "      <td>2</td>\n",
       "      <td>$30 and under</td>\n",
       "      <td>[]</td>\n",
       "      <td>90</td>\n",
       "      <td>0.0</td>\n",
       "      <td>0</td>\n",
       "      <td>{'food': 0.0, 'noise': 0.0, 'value': 0.0, 'ser...</td>\n",
       "      <td>[0, 0, 0, 0, 0]</td>\n",
       "      <td>0</td>\n",
       "      <td>[]</td>\n",
       "      <td>[]</td>\n",
       "      <td>[]</td>\n",
       "      <td>[]</td>\n",
       "      <td>[]</td>\n",
       "      <td>{'bar': None, 'counter': None, 'gifting': None...</td>\n",
       "      <td>{'cleanMenus': None, 'limitedSeating': None, '...</td>\n",
       "      <td>None</td>\n",
       "      <td>None</td>\n",
       "      <td>None</td>\n",
       "      <td>[]</td>\n",
       "      <td>NaN</td>\n",
       "      <td>3</td>\n",
       "    </tr>\n",
       "  </tbody>\n",
       "</table>\n",
       "</div>"
      ],
      "text/plain": [
       "         country   subregion          city           brand_name  categories  \\\n",
       "0  United States  California   Los Angeles  Luv2Eat Thai Bistro      [Thai]   \n",
       "1  United States  California  Sherman Oaks  Jerry's Famous Deli  [American]   \n",
       "2  United States  California      Pasadena        Terrace Sushi   [Spanish]   \n",
       "\n",
       "    latitude   longitude          area  \\\n",
       "0  34.097510 -118.335921     Hollywood   \n",
       "1  34.154596 -118.448700  Sherman Oaks   \n",
       "2  34.145800 -118.142900      Pasadena   \n",
       "\n",
       "                                             address  \\\n",
       "0  6660 W Sunset Blvd, Ste P, CA, Los Angeles, 90...   \n",
       "1                                               None   \n",
       "2  443 E Colorado Blvd, , CA, Pasadena, 91101, Un...   \n",
       "\n",
       "                                                menu  \\\n",
       "0  [{'name': 'Main Menu', 'sections': [{'name': '...   \n",
       "1  [{'name': 'Sample Menu', 'sections': [{'name':...   \n",
       "2  [{'name': 'Main Menu', 'sections': [{'name': '...   \n",
       "\n",
       "                                         description public_transit  \\\n",
       "0  Luv2Eat Thai Bistro is located in Los Angeles,...           None   \n",
       "1  <p>Feast on delicious grub at Jerry's Famous D...           None   \n",
       "2  <p>Terrace Sushi serves Japanese cuisines to i...           None   \n",
       "\n",
       "  cross_street                restaurant_website    phone_number  \\\n",
       "0         None       http://www.luv2eatthai.com/  (323) 498-5835   \n",
       "1         None  http://www.jerrysfamousdeli.com/  (818) 905-5774   \n",
       "2         None                              None  (626) 584-0503   \n",
       "\n",
       "  primary_cuisine   dining_style executive_chef_name    parking_info  \\\n",
       "0            Thai  Casual Dining                None  Street Parking   \n",
       "1        American  Casual Dining                None            None   \n",
       "2         Spanish  Casual Dining                None            None   \n",
       "\n",
       "        dress_code entertainment  \\\n",
       "0     Casual Dress          None   \n",
       "1  Business Casual          None   \n",
       "2  Business Casual          None   \n",
       "\n",
       "                                     operating_hours  price_range_id  \\\n",
       "0  Lunch\\nDaily 11:00 am–3:30 pm\\nDinner\\nDaily 4...               2   \n",
       "1                                               None               2   \n",
       "2                                               None               2   \n",
       "\n",
       "     price_range                     payment_options  \\\n",
       "0  $30 and under  [AMEX, Discover, MasterCard, Visa]   \n",
       "1  $30 and under                                  []   \n",
       "2  $30 and under                                  []   \n",
       "\n",
       "   maximum_days_advance_for_reservation  rating  rating_count  \\\n",
       "0                                    90     4.6           136   \n",
       "1                                    90     0.0             0   \n",
       "2                                    90     0.0             0   \n",
       "\n",
       "                                   rating_by_feature rating_distribution  \\\n",
       "0  {'food': 4.7, 'noise': 2.0, 'value': 4.6, 'ser...  [2, 3, 4, 23, 104]   \n",
       "1  {'food': 0.0, 'noise': 0.0, 'value': 0.0, 'ser...     [0, 0, 0, 0, 0]   \n",
       "2  {'food': 0.0, 'noise': 0.0, 'value': 0.0, 'ser...     [0, 0, 0, 0, 0]   \n",
       "\n",
       "   review_count                      review_topics awards experiences  \\\n",
       "0            18  [Spicy, Casual, Neighborhood Gem]     []          []   \n",
       "1             0                                 []     []          []   \n",
       "2             0                                 []     []          []   \n",
       "\n",
       "                                                tags editorial_lists  \\\n",
       "0  [Delivery, Gluten-free Options, Late Night, No...              []   \n",
       "1                                                 []              []   \n",
       "2                                                 []              []   \n",
       "\n",
       "                                           checklist  \\\n",
       "0  {'bar': False, 'counter': False, 'gifting': No...   \n",
       "1  {'bar': None, 'counter': None, 'gifting': None...   \n",
       "2  {'bar': None, 'counter': None, 'gifting': None...   \n",
       "\n",
       "                                  safety_precautions order_online_link  \\\n",
       "0  {'cleanMenus': None, 'limitedSeating': None, '...              None   \n",
       "1  {'cleanMenus': None, 'limitedSeating': None, '...              None   \n",
       "2  {'cleanMenus': None, 'limitedSeating': None, '...              None   \n",
       "\n",
       "                                     facebook  \\\n",
       "0  http://www.facebook.com/luv2eatthaibistro/   \n",
       "1                                        None   \n",
       "2                                        None   \n",
       "\n",
       "                                    menu_url popular_dishes  \\\n",
       "0  http://sappclub.com/restaurant.aspx?r=205             []   \n",
       "1                                       None             []   \n",
       "2                                       None             []   \n",
       "\n",
       "   daily_reservation_count  restaurant_id  \n",
       "0                      NaN              1  \n",
       "1                      NaN              2  \n",
       "2                      NaN              3  "
      ]
     },
     "execution_count": 20,
     "metadata": {},
     "output_type": "execute_result"
    }
   ],
   "source": [
    "df[\"restaurant_id\"] = range(1, len(df) + 1)\n",
    "df.head(3)"
   ]
  },
  {
   "cell_type": "code",
   "execution_count": 21,
   "id": "6ffa3bb4",
   "metadata": {},
   "outputs": [
    {
     "data": {
      "text/plain": [
       "Index(['country', 'subregion', 'city', 'brand_name', 'categories', 'latitude',\n",
       "       'longitude', 'area', 'address', 'menu', 'description', 'public_transit',\n",
       "       'cross_street', 'restaurant_website', 'phone_number', 'primary_cuisine',\n",
       "       'dining_style', 'executive_chef_name', 'parking_info', 'dress_code',\n",
       "       'entertainment', 'operating_hours', 'price_range_id', 'price_range',\n",
       "       'payment_options', 'maximum_days_advance_for_reservation', 'rating',\n",
       "       'rating_count', 'rating_by_feature', 'rating_distribution',\n",
       "       'review_count', 'review_topics', 'awards', 'experiences', 'tags',\n",
       "       'editorial_lists', 'checklist', 'safety_precautions',\n",
       "       'order_online_link', 'facebook', 'menu_url', 'popular_dishes',\n",
       "       'daily_reservation_count', 'restaurant_id'],\n",
       "      dtype='object')"
      ]
     },
     "execution_count": 21,
     "metadata": {},
     "output_type": "execute_result"
    }
   ],
   "source": [
    "df.columns"
   ]
  },
  {
   "cell_type": "code",
   "execution_count": 22,
   "id": "d80a61cc",
   "metadata": {},
   "outputs": [
    {
     "data": {
      "text/plain": [
       "(18316, 44)"
      ]
     },
     "execution_count": 22,
     "metadata": {},
     "output_type": "execute_result"
    }
   ],
   "source": [
    "df.shape"
   ]
  },
  {
   "cell_type": "markdown",
   "id": "0b5d359f-7c75-40b4-81a2-b294fd9e388c",
   "metadata": {},
   "source": [
    "### 2.2 Basic Operations 🔧 (4 points)"
   ]
  },
  {
   "cell_type": "markdown",
   "id": "47f2c62f-da56-40f1-abda-29ba3ee4a5a3",
   "metadata": {},
   "source": [
    "#### 2.2.1 Restaurants by City 🌆 (1 point)\n",
    "\n",
    "For each city in california, find\n",
    "\n",
    "1. the number of restaurants in that city,\n",
    "2. mean `rating` of all restaurants in the city,\n",
    "3. mean `price_range_id` per city,\n",
    "4. mean `maximum_days_advance_for_reservation` per city\n",
    "\n",
    "sort by number of restaurants.\n",
    "\n",
    "The resulting dataframe's top 5 rows would look as follows:\n",
    "\n",
    "| city          | restaurant_count | avg_rating | avg_price_range_id | avg_reservation_advance |\n",
    "| :------------ | ---------------: | ---------: | -----------------: | ----------------------: |\n",
    "| San Francisco |             1645 |    2.59343 |             2.3617 |                 90.3453 |\n",
    "| Los Angeles   |             1604 |    2.31995 |            2.29052 |                  86.692 |\n",
    "| San Diego     |             1034 |    2.65493 |            2.28723 |                 94.5783 |\n",
    "| San Jose      |              372 |    1.54597 |            2.16398 |                 88.3011 |\n",
    "| Sacramento    |              329 |    1.68663 |            2.26748 |                 95.0274 |\n"
   ]
  },
  {
   "cell_type": "code",
   "execution_count": 23,
   "id": "0a730825-0f6d-49fd-8803-8b3e81fcd752",
   "metadata": {},
   "outputs": [
    {
     "data": {
      "text/html": [
       "<div>\n",
       "<style scoped>\n",
       "    .dataframe tbody tr th:only-of-type {\n",
       "        vertical-align: middle;\n",
       "    }\n",
       "\n",
       "    .dataframe tbody tr th {\n",
       "        vertical-align: top;\n",
       "    }\n",
       "\n",
       "    .dataframe thead th {\n",
       "        text-align: right;\n",
       "    }\n",
       "</style>\n",
       "<table border=\"1\" class=\"dataframe\">\n",
       "  <thead>\n",
       "    <tr style=\"text-align: right;\">\n",
       "      <th></th>\n",
       "      <th>restaurant_count</th>\n",
       "      <th>avg_rating</th>\n",
       "      <th>avg_price_range_id</th>\n",
       "      <th>avg_reservation_advance</th>\n",
       "    </tr>\n",
       "    <tr>\n",
       "      <th>city</th>\n",
       "      <th></th>\n",
       "      <th></th>\n",
       "      <th></th>\n",
       "      <th></th>\n",
       "    </tr>\n",
       "  </thead>\n",
       "  <tbody>\n",
       "    <tr>\n",
       "      <th>San Francisco</th>\n",
       "      <td>1645</td>\n",
       "      <td>2.593435</td>\n",
       "      <td>2.361702</td>\n",
       "      <td>90.345289</td>\n",
       "    </tr>\n",
       "    <tr>\n",
       "      <th>Los Angeles</th>\n",
       "      <td>1604</td>\n",
       "      <td>2.319950</td>\n",
       "      <td>2.290524</td>\n",
       "      <td>86.692020</td>\n",
       "    </tr>\n",
       "    <tr>\n",
       "      <th>San Diego</th>\n",
       "      <td>1034</td>\n",
       "      <td>2.654932</td>\n",
       "      <td>2.287234</td>\n",
       "      <td>94.578337</td>\n",
       "    </tr>\n",
       "    <tr>\n",
       "      <th>San Jose</th>\n",
       "      <td>372</td>\n",
       "      <td>1.545968</td>\n",
       "      <td>2.163978</td>\n",
       "      <td>88.301075</td>\n",
       "    </tr>\n",
       "    <tr>\n",
       "      <th>Sacramento</th>\n",
       "      <td>329</td>\n",
       "      <td>1.686626</td>\n",
       "      <td>2.267477</td>\n",
       "      <td>95.027356</td>\n",
       "    </tr>\n",
       "  </tbody>\n",
       "</table>\n",
       "</div>"
      ],
      "text/plain": [
       "               restaurant_count  avg_rating  avg_price_range_id  \\\n",
       "city                                                              \n",
       "San Francisco              1645    2.593435            2.361702   \n",
       "Los Angeles                1604    2.319950            2.290524   \n",
       "San Diego                  1034    2.654932            2.287234   \n",
       "San Jose                    372    1.545968            2.163978   \n",
       "Sacramento                  329    1.686626            2.267477   \n",
       "\n",
       "               avg_reservation_advance  \n",
       "city                                    \n",
       "San Francisco                90.345289  \n",
       "Los Angeles                  86.692020  \n",
       "San Diego                    94.578337  \n",
       "San Jose                     88.301075  \n",
       "Sacramento                   95.027356  "
      ]
     },
     "execution_count": 23,
     "metadata": {},
     "output_type": "execute_result"
    }
   ],
   "source": [
    "#Grouped Cities and applied Aggregate Function to obtain the above desired dataframe.\n",
    "city_grp = df.groupby(\"city\").aggregate({\n",
    "    \"brand_name\":\"count\",\n",
    "    \"rating\":\"mean\",\n",
    "    \"price_range_id\":\"mean\",\n",
    "    \"maximum_days_advance_for_reservation\":\"mean\"\n",
    "})\n",
    "\n",
    "#Sorting values based on brand_name in descending order.\n",
    "df_city = city_grp.sort_values(by=\"brand_name\",ascending=False)\n",
    "\n",
    "#Renaming the dataframe and printed the top 5 usinng head function as per the above mentioned details.\n",
    "df_city.rename(columns={\n",
    "    \"brand_name\":\"restaurant_count\",\n",
    "    \"rating\":\"avg_rating\",\n",
    "    \"price_range_id\":\"avg_price_range_id\",\n",
    "    \"maximum_days_advance_for_reservation\":\"avg_reservation_advance\"\n",
    "}).head()\n"
   ]
  },
  {
   "cell_type": "markdown",
   "id": "8b26973b-27bf-4aa3-bd41-72a502e8ce31",
   "metadata": {},
   "source": [
    "#### 2.2.2 Restaurants by Brand 🍔 (1 point)\n",
    "\n",
    "For each brand (`brand_name`) in california, find\n",
    "\n",
    "1. the number of restaurants that belong to that brand,\n",
    "2. mean `price_range_id` of the brand across its restaurants\n",
    "\n",
    "sort by number of restaurants.\n",
    "\n",
    "The resulting dataframe's top 5 rows would look as follows:\n",
    "\n",
    "| brand_name               | restaurant_count | avg_price_range_id |\n",
    "| :----------------------- | ---------------: | -----------------: |\n",
    "| Denny's                  |               73 |                  2 |\n",
    "| Ihop                     |               37 |                  2 |\n",
    "| Buffalo Wild Wings       |               32 |                  2 |\n",
    "| Black Bear Diner         |               28 |                  2 |\n",
    "| Coco's Bakery Restaurant |               24 |                  2 |\n"
   ]
  },
  {
   "cell_type": "code",
   "execution_count": 24,
   "id": "7f230d14-518e-4bf4-bbeb-8fc5804ff0f1",
   "metadata": {},
   "outputs": [
    {
     "data": {
      "text/html": [
       "<div>\n",
       "<style scoped>\n",
       "    .dataframe tbody tr th:only-of-type {\n",
       "        vertical-align: middle;\n",
       "    }\n",
       "\n",
       "    .dataframe tbody tr th {\n",
       "        vertical-align: top;\n",
       "    }\n",
       "\n",
       "    .dataframe thead th {\n",
       "        text-align: right;\n",
       "    }\n",
       "</style>\n",
       "<table border=\"1\" class=\"dataframe\">\n",
       "  <thead>\n",
       "    <tr style=\"text-align: right;\">\n",
       "      <th></th>\n",
       "      <th>restaurant_count</th>\n",
       "      <th>avg_price_range_id</th>\n",
       "    </tr>\n",
       "    <tr>\n",
       "      <th>brand_name</th>\n",
       "      <th></th>\n",
       "      <th></th>\n",
       "    </tr>\n",
       "  </thead>\n",
       "  <tbody>\n",
       "    <tr>\n",
       "      <th>Denny's</th>\n",
       "      <td>73</td>\n",
       "      <td>2.0</td>\n",
       "    </tr>\n",
       "    <tr>\n",
       "      <th>Ihop</th>\n",
       "      <td>37</td>\n",
       "      <td>2.0</td>\n",
       "    </tr>\n",
       "    <tr>\n",
       "      <th>Buffalo Wild Wings</th>\n",
       "      <td>32</td>\n",
       "      <td>2.0</td>\n",
       "    </tr>\n",
       "    <tr>\n",
       "      <th>Black Bear Diner</th>\n",
       "      <td>28</td>\n",
       "      <td>2.0</td>\n",
       "    </tr>\n",
       "    <tr>\n",
       "      <th>Coco's Bakery Restaurant</th>\n",
       "      <td>24</td>\n",
       "      <td>2.0</td>\n",
       "    </tr>\n",
       "  </tbody>\n",
       "</table>\n",
       "</div>"
      ],
      "text/plain": [
       "                          restaurant_count  avg_price_range_id\n",
       "brand_name                                                    \n",
       "Denny's                                 73                 2.0\n",
       "Ihop                                    37                 2.0\n",
       "Buffalo Wild Wings                      32                 2.0\n",
       "Black Bear Diner                        28                 2.0\n",
       "Coco's Bakery Restaurant                24                 2.0"
      ]
     },
     "execution_count": 24,
     "metadata": {},
     "output_type": "execute_result"
    }
   ],
   "source": [
    ".#Grouped Brands and applied Aggregate Function to obtain the above desired dataframe.\n",
    "#Renaming the dataframe as per the above mentioned details.\n",
    "#Sorting values based on resturant_count in descending order.\n",
    "#Printed the top 5 usinng head function.\n",
    "\n",
    "df_brand = df.groupby(\"brand_name\").aggregate({\n",
    "     \"brand_name\":\"count\",\n",
    "     \"price_range_id\":\"mean\"\n",
    " }).rename(columns={\n",
    "     \"brand_name\":\"restaurant_count\",\n",
    "     \"price_range_id\":\"avg_price_range_id\"\n",
    " }).sort_values(by=\"restaurant_count\",ascending=False)\n",
    "    \n",
    "df_brand.head()"
   ]
  },
  {
   "cell_type": "markdown",
   "id": "8111c4e6-5655-487a-a2cc-179744d747cb",
   "metadata": {},
   "source": [
    "#### 2.2.3 Visualize Brands 📊 (2 points)\n",
    "\n",
    "Create a bar chart of top 5 brands in california by average number of reviews where each brand has at least 5 restaurants\n"
   ]
  },
  {
   "cell_type": "code",
   "execution_count": 25,
   "id": "56fb034d-b9a6-4ad7-a498-17e75f5f8781",
   "metadata": {},
   "outputs": [
    {
     "data": {
      "image/png": "[encoded data removed]",
      "text/plain": [
       "<Figure size 640x480 with 1 Axes>"
      ]
     },
     "metadata": {},
     "output_type": "display_data"
    }
   ],
   "source": [
    "#Grouped Brands and applied Aggregate Function to obtain the above desired dataframe.\n",
    "#Renaming the dataframe as per the above mentioned details.\n",
    "\n",
    "\n",
    "brand_grp = df.groupby(\"brand_name\").aggregate({\n",
    "    \"brand_name\":\"count\",\n",
    "    \"review_count\":\"mean\",\n",
    "    \n",
    "}).rename(columns={\n",
    "    \"brand_name\":\"number_of_restaurants\",\n",
    "    \"review_count\":\"avg_number_of_reviews\"\n",
    "})\n",
    "\n",
    "#Sorting values based on avg_number_of_reviews in descending order.\n",
    "brand_grp.sort_values(by=\"avg_number_of_reviews\",ascending=False,inplace=True)\n",
    "\n",
    "#Obtained the brand_grp having atleat 5 restuarants. \n",
    "brand_grp=brand_grp[brand_grp[\"number_of_restaurants\"]>=5]\n",
    "\n",
    "#Plotted the bar graph of brand_name to average_number_of_reviews for top 5 brands.\n",
    "plt.bar(brand_grp.index[:5],brand_grp[\"avg_number_of_reviews\"][:5])\n",
    "plt.xlabel('Brand Name')\n",
    "plt.ylabel('Average Number of Reviews')\n",
    "plt.title('Average number of reviews where each brand has at least 5 restaurants')\n",
    "plt.xticks(rotation='90');"
   ]
  },
  {
   "cell_type": "markdown",
   "id": "ad7f78bb-91d8-4b1a-8cb0-0a60dd1b9e4c",
   "metadata": {},
   "source": [
    "### 2.3 Transform Columns 🚚 (15 Points)\n",
    "\n",
    "<img src=\"https://media.giphy.com/media/2f41Z7bhKGvbG/giphy.gif\" height=\"250px\" width=\"250px\" alt=\"harry potter\">"
   ]
  },
  {
   "cell_type": "markdown",
   "id": "8cf2c3d6-5a03-4eb5-b568-7c8e265fd448",
   "metadata": {},
   "source": [
    "#### 2.3.1 Safety Precautions 🦺 (2 points)\n",
    "\n",
    "Transform the entire safety precautions column into a new column based on the following rule:\n",
    "\n",
    "Convert from dictionary to list. Only include in the list, those keys in the dictionary which are true.\n",
    "For ex, for safety precautions of the type:\n",
    "\n",
    "```python\n",
    "{\n",
    "    'cleanMenus': True,\n",
    "    'limitedSeating': False,\n",
    "    'sealedUtensils': None,\n",
    "    'prohibitSickStaff': True,\n",
    "    'requireDinerMasks': True,\n",
    "    'staffIsVaccinated': None,\n",
    "    'proofOfVaccinationRequired': False,\n",
    "    'sanitizerProvidedForCustomers': None\n",
    "}\n",
    "```\n",
    "\n",
    "It should turn into a list of the form:\n",
    "\n",
    "```python\n",
    "[\"Clean Menus\", \"Prohibit Sick Staff\", \"Require Diner Masks\"]\n",
    "```\n"
   ]
  },
  {
   "cell_type": "code",
   "execution_count": 26,
   "id": "e5201dc9",
   "metadata": {},
   "outputs": [
    {
     "data": {
      "text/plain": [
       "0        {'cleanMenus': None, 'limitedSeating': None, '...\n",
       "1        {'cleanMenus': None, 'limitedSeating': None, '...\n",
       "2        {'cleanMenus': None, 'limitedSeating': None, '...\n",
       "3        {'cleanMenus': None, 'limitedSeating': None, '...\n",
       "4        {'cleanMenus': True, 'limitedSeating': False, ...\n",
       "                               ...                        \n",
       "18311    {'cleanMenus': None, 'limitedSeating': None, '...\n",
       "18312    {'cleanMenus': None, 'limitedSeating': None, '...\n",
       "18313    {'cleanMenus': None, 'limitedSeating': None, '...\n",
       "18314    {'cleanMenus': None, 'limitedSeating': None, '...\n",
       "18315    {'cleanMenus': None, 'limitedSeating': None, '...\n",
       "Name: safety_precautions, Length: 18316, dtype: object"
      ]
     },
     "execution_count": 26,
     "metadata": {},
     "output_type": "execute_result"
    }
   ],
   "source": [
    "#Made a copy of original dataframe to view the difference in final results\n",
    "df_extended = df.copy()\n",
    "df_extended[\"safety_precautions\"]"
   ]
  },
  {
   "cell_type": "code",
   "execution_count": 27,
   "id": "23cc56ff",
   "metadata": {},
   "outputs": [],
   "source": [
    "#Imported RegularExpression Module.\n",
    "import re\n",
    "\n",
    "#Function To Covert the Camel Case Flat Case.\n",
    "def sentence_case(string):\n",
    "    if string != '':\n",
    "        result = re.sub('([A-Z][a-z]+)', r' \\1', re.sub('([A-Z]+)', r' \\1', string))\n",
    "        return result[:1].upper() + result[1:]\n",
    "    return\n",
    "\n",
    "#Defined List l1 which contains all the keys of safety_precautions are True.\n",
    "l1=[]\n",
    "\n",
    "#Loop to obtain the True values from the safety_precautions which is a list of dictionaries.\n",
    "for list_of_dictionaries in df_extended[\"safety_precautions\"]:\n",
    "    l2=[]\n",
    "    for key,value in list_of_dictionaries.items():\n",
    "        if value:\n",
    "            l2.append(key)\n",
    "            \n",
    "    l1.append(l2)\n",
    "\n",
    "#Defined List l3 which contains the Flat case converted from camel case using sentence_case function. \n",
    "l3=[]\n",
    "\n",
    "#Loop to obtain the Flat Case values of all the values of  list l1. \n",
    "for item_list in l1:\n",
    "    l4=[]\n",
    "    for item_sublist in item_list:\n",
    "        l4.append(sentence_case(item_sublist))\n",
    "    l3.append(l4)"
   ]
  },
  {
   "cell_type": "code",
   "execution_count": 28,
   "id": "192b68ef",
   "metadata": {},
   "outputs": [
    {
     "data": {
      "text/plain": [
       "{'cleanMenus': True,\n",
       " 'limitedSeating': True,\n",
       " 'sealedUtensils': None,\n",
       " 'prohibitSickStaff': True,\n",
       " 'requireDinerMasks': None,\n",
       " 'sanitizedSurfaces': True,\n",
       " 'staffIsVaccinated': None,\n",
       " 'commonAreaCleaning': True,\n",
       " 'contactlessPayment': True,\n",
       " 'commonAreaDistancing': True,\n",
       " 'requireWaitstaffMasks': True,\n",
       " 'contactTracingCollected': None,\n",
       " 'dinerTempChecksRequired': None,\n",
       " 'staffTempChecksRequired': True,\n",
       " 'proofOfVaccinationOutdoor': None,\n",
       " 'tableLayoutWithExtraSpace': True,\n",
       " 'proofOfVaccinationRequired': False,\n",
       " 'sanitizerProvidedForCustomers': None}"
      ]
     },
     "execution_count": 28,
     "metadata": {},
     "output_type": "execute_result"
    }
   ],
   "source": [
    "#Original DataFrame.\n",
    "df[\"safety_precautions\"][87]"
   ]
  },
  {
   "cell_type": "code",
   "execution_count": 29,
   "id": "3136e5c3",
   "metadata": {},
   "outputs": [
    {
     "data": {
      "text/plain": [
       "['Clean  Menus',\n",
       " 'Limited  Seating',\n",
       " 'Prohibit  Sick  Staff',\n",
       " 'Sanitized  Surfaces',\n",
       " 'Common  Area  Cleaning',\n",
       " 'Contactless  Payment',\n",
       " 'Common  Area  Distancing',\n",
       " 'Require  Waitstaff  Masks',\n",
       " 'Staff  Temp  Checks  Required',\n",
       " 'Table  Layout  With  Extra  Space']"
      ]
     },
     "execution_count": 29,
     "metadata": {},
     "output_type": "execute_result"
    }
   ],
   "source": [
    "#Modified DataFrame.\n",
    "df_extended[\"New_Safety_Precautions\"]=l3\n",
    "df_extended[\"New_Safety_Precautions\"][87]"
   ]
  },
  {
   "cell_type": "markdown",
   "id": "28008039-4e56-4876-b4f3-faee50990b0f",
   "metadata": {},
   "source": [
    "#### 2.3.2 Clean up HTML text 🥜 (2 points)\n",
    "\n",
    "Find columns containing text / strings that have html text and remove those HTML texts\n",
    "\n",
    "ex:\n",
    "\n",
    "```html\n",
    "<p>\n",
    "  Feast on delicious grub at Jerry's Famous Deli.<br />\n",
    "  Its retro-style casual setting features comfortable booth seating.\n",
    "</p>\n",
    "```\n",
    "\n",
    "to:\n",
    "\n",
    "```\n",
    "Feast on delicious grub at Jerry's Famous Deli. Its retro-style casual setting features comfortable booth seating.\n",
    "```\n"
   ]
  },
  {
   "cell_type": "code",
   "execution_count": 30,
   "id": "b26ad046",
   "metadata": {},
   "outputs": [
    {
     "data": {
      "text/plain": [
       "'Luv2Eat Thai Bistro is located in Los Angeles, California and serves up authentic Thai cuisine for locals and guests alike. You can discover the art of real Thai cooking by enjoying the food made by classically trained chefs who love the kitchen. Luv2Eat Thai Bistro incorporates old family recipes into the menu, while also adding modern touches where appropriate.<br /><br />The menu at Luv2Eat Thai Bistro is extensive, with many favorites. For an appetizer, try the fried meat balls, fish cake, chicken satay, eggplant green curry or fried tofu. Those who enjoy noodle dishes will likely enjoy the drunken spicy noodle, pad thai, meatball noodles or drumstick chicken noodle.<br />'"
      ]
     },
     "execution_count": 30,
     "metadata": {},
     "output_type": "execute_result"
    }
   ],
   "source": [
    "#Checking for Description Column.\n",
    "df[\"description\"][0]"
   ]
  },
  {
   "cell_type": "code",
   "execution_count": 31,
   "id": "53671aee",
   "metadata": {},
   "outputs": [
    {
     "data": {
      "text/plain": [
       "<br />                                                                                                                                                                                                                                                                                                                                                                                                                                                                                                                                                                                         6\n",
       "Live entertainment & dancing nightly at the piano bar.                                                                                                                                                                                                                                                                                                                                                                                                                                                                                                                                         5\n",
       "N/A                                                                                                                                                                                                                                                                                                                                                                                                                                                                                                                                                                                            3\n",
       "The Pechanga Resort and Casino has the largest casino floor in California totaling 188,000 sq ft. The casino features over 4,000 slot machines, 154 table games, a non-smoking poker room with tables, and an ultra-modern, 700-seat bingo facility. <br /><br />At Pechanga, our live entertainment is world-class, in intimate venues where every seat feels like front row. Tickets for all Pechanga Theater shows, boxing events and comedy club performances are available for purchase. The box office is located next to the Pechanga Theater entrance.<br /><br />www.pechanga.com     3\n",
       "This Black Angus Steakhouse features a casual sports bar concept within the restaurant which boasts 10 to 12 hi-def flat screen TVs and offers various types of viewing zones. Each seat in the bar offers Guests the ability to watch different sporting events simultaneously.  Free Wi-Fi is also available for fantasy sports players, as well as an ongoing calendar of sports-related promotions and contests.                                                                                                                                                                           3\n",
       "                                                                                                                                                                                                                                                                                                                                                                                                                                                                                                                                                                                              ..\n",
       "An eclectic mix created by The Playlist Generation will stream a collection of classic American rock and blues throughout the dining room, while a live pianist will play in the Piano Bar.                                                                                                                                                                                                                                                                                                                                                                                                    1\n",
       "Yes we could do live music if there was a special event at our restaurant.                                                                                                                                                                                                                                                                                                                                                                                                                                                                                                                     1\n",
       "Live Entertainment Weekends                                                                                                                                                                                                                                                                                                                                                                                                                                                                                                                                                                    1\n",
       "Multiple Flat Screen TV                                                                                                                                                                                                                                                                                                                                                                                                                                                                                                                                                                        1\n",
       "Live Flamenco Performances every Sunday evening 7:30pm & 8:30pm -No Cover-Reservations Recommended! see website for details. \\r\\n                                                                                                                                                                                                                                                                                                                                                                                                                                                              1\n",
       "Name: entertainment, Length: 1322, dtype: int64"
      ]
     },
     "execution_count": 31,
     "metadata": {},
     "output_type": "execute_result"
    }
   ],
   "source": [
    "#Checking for Entertainment Column.\n",
    "df[\"entertainment\"].value_counts()"
   ]
  },
  {
   "cell_type": "code",
   "execution_count": 32,
   "id": "3b807861-41ac-42c6-9792-6e8783d76539",
   "metadata": {},
   "outputs": [],
   "source": [
    "#Imported RegularExpression Module.\n",
    "import re\n",
    "\n",
    "#Function to clean the text from html_tags using Regular Expression re.sub() method.\n",
    "def clean_html_tags(text):\n",
    "    if text == None:\n",
    "        return\n",
    "    pattern =\"<[^<]+?>\"\n",
    "    clean_text =re.sub(pattern,\"\",text)\n",
    "    return clean_text\n",
    "\n",
    "#Applying the Functions to clean the Two Columns (Description and Entertainment).\n",
    "df[\"description\"]= df[\"description\"].apply(clean_html_tags)\n",
    "df[\"entertainment\"]=df[\"entertainment\"].apply(clean_html_tags)"
   ]
  },
  {
   "cell_type": "markdown",
   "id": "ecb76263-094a-4ee6-842d-24da225eb72d",
   "metadata": {},
   "source": [
    "#### 2.3.3 Imputing 📈 (3 points)\n",
    "\n",
    "Fill up missing values for rating, rating count and review count by imputing based on the following columns in order:\n",
    "\n",
    "1. `brand_name`\n",
    "2. `area`\n",
    "3. `city`\n",
    "\n",
    "This means that if `rating` is missing for a restaurant (null / 0), but that restaurant is part of a brand where\n",
    "other restaurants of the same brand have ratings, then a median rating is taken. If brands are complete, then missing values are filled using\n",
    "area where the restaurant is located (median rating) and finally filled using the city's rating\n"
   ]
  },
  {
   "cell_type": "code",
   "execution_count": 33,
   "id": "9ec87340",
   "metadata": {},
   "outputs": [
    {
     "data": {
      "text/plain": [
       "4.6"
      ]
     },
     "execution_count": 33,
     "metadata": {},
     "output_type": "execute_result"
    }
   ],
   "source": [
    "#Just trying to obtain the desired output. \n",
    "df.groupby(\"brand_name\")[\"rating\"].median()[df.loc[0,\"brand_name\"]]"
   ]
  },
  {
   "cell_type": "code",
   "execution_count": 34,
   "id": "8f43445b",
   "metadata": {},
   "outputs": [],
   "source": [
    "#Creating a copy of original dataframe to view the difference in the results.\n",
    "df2= df.copy()"
   ]
  },
  {
   "cell_type": "code",
   "execution_count": 35,
   "id": "77c4edcd",
   "metadata": {},
   "outputs": [],
   "source": [
    "#Created Groups of brand_name, area, city and accessed the rating property.\n",
    "brand_rating =df2.groupby(\"brand_name\")[\"rating\"]\n",
    "area_rating = df2.groupby(\"area\")[\"rating\"]\n",
    "city_rating = df2.groupby(\"city\")[\"rating\"]"
   ]
  },
  {
   "cell_type": "code",
   "execution_count": 36,
   "id": "7585f960",
   "metadata": {},
   "outputs": [],
   "source": [
    "\"\"\"\n",
    "Looping through the dataframe to remove the rating based to following criterion:\n",
    "\n",
    "1)Fill the none value of rating column with median rating value of its corresponding brand.\n",
    "2)If the median rating value of its corresponding brand is 0 , fill it with median rating value of its corresponding area.\n",
    "3)If the median rating value of its corresponding area is 0 , fill it with median rating value of its corresponding city.\n",
    "\n",
    "\"\"\"\n",
    "\n",
    "for i in range(len(df2[:100])):\n",
    "    if df2.loc[i,\"rating\"]==None or df2.loc[i,\"rating\"]==0:\n",
    "        if brand_rating.median()[df2.loc[i,\"brand_name\"]] != 0:\n",
    "            df2.loc[i,\"rating\"] = brand_rating.median()[df2.loc[i,\"brand_name\"]]\n",
    "            \n",
    "        elif df2.groupby(\"area\")[\"rating\"].median()[df2.loc[i,\"area\"]] != 0:\n",
    "                df2.loc[i,\"rating\"] = area_rating.median()[df2.loc[i,\"area\"]]\n",
    "                \n",
    "        else:\n",
    "             df2.loc[i,\"rating\"] = city_rating.median()[df2.loc[i,\"city\"]]\n",
    "            \n",
    "            \n",
    "            "
   ]
  },
  {
   "cell_type": "code",
   "execution_count": 37,
   "id": "a39974df",
   "metadata": {},
   "outputs": [
    {
     "data": {
      "text/plain": [
       "0    4.60\n",
       "1    3.45\n",
       "2    3.90\n",
       "3    3.90\n",
       "4    4.70\n",
       "5    4.00\n",
       "6    0.00\n",
       "7    4.30\n",
       "8    4.20\n",
       "9    3.90\n",
       "Name: rating, dtype: float64"
      ]
     },
     "execution_count": 37,
     "metadata": {},
     "output_type": "execute_result"
    }
   ],
   "source": [
    "df2[\"rating\"][:10]"
   ]
  },
  {
   "cell_type": "code",
   "execution_count": 38,
   "id": "febadd09",
   "metadata": {},
   "outputs": [
    {
     "data": {
      "text/plain": [
       "0    4.6\n",
       "1    0.0\n",
       "2    0.0\n",
       "3    0.0\n",
       "4    4.7\n",
       "5    0.0\n",
       "6    0.0\n",
       "7    4.3\n",
       "8    4.2\n",
       "9    3.9\n",
       "Name: rating, dtype: float64"
      ]
     },
     "execution_count": 38,
     "metadata": {},
     "output_type": "execute_result"
    }
   ],
   "source": [
    "df[\"rating\"][:10]"
   ]
  },
  {
   "cell_type": "code",
   "execution_count": 39,
   "id": "0822d7d4",
   "metadata": {},
   "outputs": [],
   "source": [
    "#Created Groups of brand_name, area, city and accessed the rating_count property.\n",
    "brand_rating_count =df2.groupby(\"brand_name\")[\"rating_count\"]\n",
    "area_rating_count = df2.groupby(\"area\")[\"rating_count\"]\n",
    "city_rating_count = df2.groupby(\"city\")[\"rating_count\"]"
   ]
  },
  {
   "cell_type": "code",
   "execution_count": 40,
   "id": "9f3a3e1f",
   "metadata": {},
   "outputs": [],
   "source": [
    "\"\"\"\n",
    "Looping through the dataframe to remove the rating_count based to following criterion:\n",
    "\n",
    "1)Fill the none value of rating_count column with median rating_count value of its corresponding brand.\n",
    "2)If the median rating_count value of its corresponding brand is 0 , fill it with median rating_count value of its corresponding area.\n",
    "3)If the median rating_count value of its corresponding area is 0 , fill it with median rating_count value of its corresponding city.\n",
    "\n",
    "\"\"\"\n",
    "for i in range(len(df2[:100])):\n",
    "    if df2.loc[i,\"rating_count\"]==None or df2.loc[i,\"rating_count\"]==0:\n",
    "        if brand_rating_count.median()[df2.loc[i,\"brand_name\"]] != 0:\n",
    "            df2.loc[i,\"rating_count\"] = brand_rating_count.median()[df2.loc[i,\"brand_name\"]]\n",
    "            \n",
    "        elif area_rating_count.median()[df2.loc[i,\"area\"]] != 0:\n",
    "                df2.loc[i,\"rating_count\"] = area_rating_count.median()[df2.loc[i,\"area\"]]\n",
    "                \n",
    "        else:\n",
    "             df2.loc[i,\"rating_count\"] = city_rating_count.median()[df2.loc[i,\"city\"]]"
   ]
  },
  {
   "cell_type": "code",
   "execution_count": 41,
   "id": "08ecfd27",
   "metadata": {},
   "outputs": [
    {
     "data": {
      "text/plain": [
       "0    136.0\n",
       "1      4.0\n",
       "2     18.0\n",
       "3     18.5\n",
       "4     83.0\n",
       "5     22.0\n",
       "6      0.0\n",
       "7     96.0\n",
       "8     32.0\n",
       "9     13.0\n",
       "Name: rating_count, dtype: float64"
      ]
     },
     "execution_count": 41,
     "metadata": {},
     "output_type": "execute_result"
    }
   ],
   "source": [
    "df2[\"rating_count\"][:10]"
   ]
  },
  {
   "cell_type": "code",
   "execution_count": 43,
   "id": "d80c624a",
   "metadata": {},
   "outputs": [
    {
     "data": {
      "text/plain": [
       "0    136\n",
       "1      0\n",
       "2      0\n",
       "3      0\n",
       "4     83\n",
       "5      0\n",
       "6      0\n",
       "7     96\n",
       "8     32\n",
       "9     13\n",
       "Name: rating_count, dtype: int64"
      ]
     },
     "execution_count": 43,
     "metadata": {},
     "output_type": "execute_result"
    }
   ],
   "source": [
    "df[\"rating_count\"][:10]"
   ]
  },
  {
   "cell_type": "code",
   "execution_count": 44,
   "id": "b3516a12",
   "metadata": {},
   "outputs": [],
   "source": [
    "#Created Groups of brand_name, area, city and accessed the review_count property.\n",
    "brand_review_count =df2.groupby(\"brand_name\")[\"review_count\"]\n",
    "area_review_count = df2.groupby(\"area\")[\"review_count\"]\n",
    "city_review_count = df2.groupby(\"city\")[\"review_count\"]"
   ]
  },
  {
   "cell_type": "code",
   "execution_count": 45,
   "id": "6a73f81d",
   "metadata": {},
   "outputs": [],
   "source": [
    "\"\"\"\n",
    "Looping through the dataframe to remove the review_count based to following criterion:\n",
    "\n",
    "1)Fill the none value of review_count column with median review_count value of its corresponding brand.\n",
    "2)If the median review_count value of its corresponding brand is 0 , fill it with median review_count value of its corresponding area.\n",
    "3)If the median review_count value of its corresponding area is 0 , fill it with median review_count value of its corresponding city.\n",
    "\n",
    "\"\"\"\n",
    "for i in range(len(df2[:100])):\n",
    "    if df2.loc[i,\"rating\"]==None or df2.loc[i,\"review_count\"]==0:\n",
    "        if brand_review_count.median()[df2.loc[i,\"brand_name\"]] != 0:\n",
    "            df2.loc[i,\"review_count\"] = brand_review_count.median()[df2.loc[i,\"brand_name\"]]\n",
    "            \n",
    "        elif area_review_count.median()[df2.loc[i,\"area\"]] != 0:\n",
    "                df2.loc[i,\"review_count\"] = area_review_count.median()[df2.loc[i,\"area\"]]\n",
    "                \n",
    "        else:\n",
    "             df2.loc[i,\"review_count\"] = city_review_count.median()[df2.loc[i,\"city\"]]"
   ]
  },
  {
   "cell_type": "code",
   "execution_count": 46,
   "id": "820c3be4",
   "metadata": {},
   "outputs": [
    {
     "data": {
      "text/plain": [
       "0     18.0\n",
       "1      2.0\n",
       "2      7.5\n",
       "3      7.5\n",
       "4    692.0\n",
       "5      9.0\n",
       "6      0.0\n",
       "7     26.0\n",
       "8     12.0\n",
       "9      5.0\n",
       "Name: review_count, dtype: float64"
      ]
     },
     "execution_count": 46,
     "metadata": {},
     "output_type": "execute_result"
    }
   ],
   "source": [
    "df2[\"review_count\"][:10]"
   ]
  },
  {
   "cell_type": "code",
   "execution_count": 47,
   "id": "5d515e2b",
   "metadata": {},
   "outputs": [
    {
     "data": {
      "text/plain": [
       "0     18\n",
       "1      0\n",
       "2      0\n",
       "3      0\n",
       "4    692\n",
       "5      0\n",
       "6      0\n",
       "7     26\n",
       "8     12\n",
       "9      5\n",
       "Name: review_count, dtype: int64"
      ]
     },
     "execution_count": 47,
     "metadata": {},
     "output_type": "execute_result"
    }
   ],
   "source": [
    "df[\"review_count\"][:10]"
   ]
  },
  {
   "cell_type": "markdown",
   "id": "ccbc10eb",
   "metadata": {},
   "source": [
    "#### 2.3.4 Analytical Transformations (8 points)\n",
    "\n",
    "Choose any one sub-section only to answer. The choice is yours\n",
    "\n",
    "<img src=\"https://media.giphy.com/media/SCt3Miv6ugvSg/giphy.gif\" height=\"250px\" width=\"250px\" alt=\"the matrix\">\n"
   ]
  },
  {
   "cell_type": "markdown",
   "id": "8472e53d-b62e-4bb5-954c-b878d295b6af",
   "metadata": {},
   "source": [
    "##### 2.3.4a Operating Hours 🕰️\n",
    "\n",
    "Create an operating hours [bitmap](https://en.wikipedia.org/wiki/Bit_array) column from the operating hours text column for all restaurants. The bitmap would be a matrix of size 24 x 7 where a 1 or 0 on each cell indicates whether the restaurant is operating on a specific day at a specific hour\n",
    "\n",
    "Example: For operating hours text of the form:\n",
    "\n",
    "```tex\n",
    "Lunch\n",
    "Daily 11:00 am–3:30 pm\n",
    "Dinner\n",
    "Daily 4:30 pm–11:30 pm\n",
    "```\n",
    "\n",
    "Create a bitmap of the following form:\n",
    "\n",
    "```json\n",
    "{\n",
    "    \"Monday\" : [0,0,0,0,0,0,0,0,0,0,0,1,1,1,1,1,0,1,1,1,1,1,1,1],\n",
    "    \"Tuesday\" : [0,0,0,0,0,0,0,0,0,0,0,1,1,1,1,1,0,1,1,1,1,1,1,1],\n",
    "    .\n",
    "    .\n",
    "    .\n",
    "    \"Sunday\" : [0,0,0,0,0,0,0,0,0,0,0,1,1,1,1,1,0,1,1,1,1,1,1,1],\n",
    "\n",
    "}\n",
    "```\n"
   ]
  },
  {
   "cell_type": "code",
   "execution_count": null,
   "id": "5138cd99-9cc4-4b67-8f37-3a3efe29853a",
   "metadata": {},
   "outputs": [],
   "source": []
  },
  {
   "cell_type": "markdown",
   "id": "4a5c110b-691b-4559-b82b-9b0ae02ec27b",
   "metadata": {},
   "source": [
    "##### 2.3.4b On my radar 🗺️\n",
    "\n",
    "For the following restaurant:\n",
    "\n",
    "- brand_name `Calzone's Pizza Cucina`\n",
    "- coordinates `37.799068, -122.408226`.\n",
    "\n",
    "Answer these questions:\n",
    "\n",
    "- How many restaurants exist within a 100 meter radius of this restaurant?\n",
    "- What is the most frequent cuisine (`category`) occurence in this 100m radius across the restaurants that exist in that range?"
   ]
  },
  {
   "cell_type": "code",
   "execution_count": 48,
   "id": "15707fe2-64b4-4eb0-bc61-a524372f0cf1",
   "metadata": {},
   "outputs": [
    {
     "name": "stdout",
     "output_type": "stream",
     "text": [
      "How many restaurants exist within a 100 meter radius of this restaurant?\n",
      " 20\n",
      "What is the most frequent cuisine (`category`) occurence in this 100m radius across the restaurants that exist in that range?\n",
      " Italian\n"
     ]
    }
   ],
   "source": [
    "#Imported modules used in finding distance between two different coordinates. \n",
    "import haversine as hs\n",
    "from haversine import Unit\n",
    "from statistics import mode\n",
    "\n",
    "#Created a list of tuples of coordinates i.e [(latitude,longitude),..]\n",
    "coordinates =list(zip(df[\"latitude\"],df[\"longitude\"]))\n",
    "\n",
    "#Source Name and Its Coordinates.\n",
    "source_brand_name = \"Calzone's Pizza Cucina\"\n",
    "source_coordinate = (37.799068, -122.408226)\n",
    "\n",
    "#List to store distance of each resturant from the source.\n",
    "distances =[]\n",
    "\n",
    "#Some variables to keep track of number of restaurants within 100 meter radius and most frequent cuisine.\n",
    "global brand_count\n",
    "brand_count=0\n",
    "global cuisines\n",
    "\n",
    "#List to store cuisines of each resturant which is within the 100 meter radius from the source.\n",
    "cuisines=[]\n",
    "\n",
    "#Loop to find the distances..\n",
    "for item in coordinates:\n",
    "    dist = hs.haversine(source_coordinate,item,unit=Unit.METERS)\n",
    "    distances.append(dist)\n",
    "\n",
    "#Function to count the number of restaurants within 100 meter radius and store their cuisines.\n",
    "def filt(dists,brand_count):\n",
    "    for i in range(0,len(dists)):\n",
    "        if (dists[i]<=100) & (dists[i]>0):\n",
    "            brand_count=brand_count+1\n",
    "            cuisines.append(df.loc[i,\"categories\"])\n",
    "    return brand_count\n",
    "\n",
    "\n",
    "#Function called to obtain the required results.\n",
    "brand_count=filt(distances,brand_count)\n",
    "freq_cuisine = mode(list(np.concatenate(cuisines)))\n",
    "\n",
    "print(f\"How many restaurants exist within a 100 meter radius of this restaurant?\\n {brand_count}\")\n",
    "print(f\"What is the most frequent cuisine (`category`) occurence in this 100m radius across the restaurants that exist in that range?\\n {freq_cuisine}\")"
   ]
  },
  {
   "cell_type": "markdown",
   "id": "a82a9eb9-5d71-4147-91bf-afe66be239c5",
   "metadata": {},
   "source": [
    "---"
   ]
  },
  {
   "cell_type": "markdown",
   "id": "58a351f2-1975-4c02-a7dd-bc1ee4b60ab7",
   "metadata": {
    "tags": []
   },
   "source": [
    "### 2.4 Menu-Level Table 🧾 (8 points)\n",
    "\n",
    "<img src=\"https://media.giphy.com/media/qpLuA97QGOsnK/giphy.gif\" height=\"250px\" width=\"250px\" alt=\"ratatouille\">\n",
    "\n",
    "**Create a menu-level table by parsing out menu items from the `menu` column per restaurant.**\n",
    "\n",
    "Every restaurant has a `menu` column that contains deeply nested JSON data on the restaurant's menu. The hierarchy is as follows: \n",
    "\n",
    "* One restaurant can have multiple menus (morning menu, evening menu, etc.)\n",
    "    * Each menu can have a description and provider\n",
    "* Each restaurant menu can have multiple sections (such as Appetizers, Desserts, etc.)\n",
    "    * Each section has a description\n",
    "* Each section can have multiple menu items (such as Latte, Apple Pie, Carrot Halwa, etc.)\n",
    "    * Each menu item has a price, currency and description\n",
    "\n",
    "You need to parse out the menu data from the JSON in the `menu` column for each restaurant and have a restaurants x menu table as shown below. \n",
    "\n",
    "| restaurant_id | menu_name | menu_description | menu_provider | section_name | section_description | item_name          | item_description                                                                                                      | item_price | item_price_currency |\n",
    "| ------------: | :-------- | :--------------- | ------------: | :----------- | :------------------ | :----------------- | :-------------------------------------------------------------------------------------------------------------------- | ---------: | :------------------ |\n",
    "|             1 | Main Menu |                  |           nan | Appetizers   |                     | Egg Rolls          | Deep fried mixed veggie egg rolls served with sweet & sour sauce                                                      |          8 | USD                 |\n",
    "|             1 | Main Menu |                  |           nan | Appetizers   |                     | Fried Tofu         | (Contains Peanut) Deep fried tofu, served with sweet & sour sauce and crushed peanut                                  |          8 | USD                 |\n",
    "|             1 | Main Menu |                  |           nan | Appetizers   |                     | Fried Meat Balls   | Deep fried fish, pork, beef balls or mixed served with sweet & sour sauce. Meat: Beef $1, Fish, Mixed Meat ball, Pork |        8.5 | USD                 |\n",
    "|             1 | Main Menu |                  |           nan | Appetizers   |                     | Pork Jerky         | Deep fried marinated pork served with special jaew sauce                                                              |        8.5 | USD                 |\n",
    "|             1 | Main Menu |                  |           nan | Appetizers   |                     | Thai Isaan Sausage | (Contains Peanut) Thai Style sausage served with fresh vegetables and peanuts                                         |          9 | USD                 |\n"
   ]
  },
  {
   "cell_type": "code",
   "execution_count": 49,
   "id": "c90a62c3",
   "metadata": {
    "scrolled": false
   },
   "outputs": [],
   "source": [
    "#Imported module to display a datframe.\n",
    "from IPython.display import display\n",
    "\n",
    "#Function to display the menu table as mentioned above.\n",
    "def display_menu_table(df,index):\n",
    "    demo_menu=df[index]\n",
    "    restaurant_id=[]\n",
    "    list_of_names =[]\n",
    "    list_of_desc =[]\n",
    "    list_of_provider_names=[]\n",
    "    list_of_section_names=[]\n",
    "    list_of_section_desc=[]\n",
    "    list_of_item_names=[]\n",
    "    list_of_item_desc=[]\n",
    "    list_of_item_price=[]\n",
    "    list_of_item_currency=[]\n",
    "    \n",
    "    #Looping into each item in nested lists and dictionares to obtain the required results.\n",
    "    for data in demo_menu:\n",
    "        sections = data[\"sections\"]\n",
    "        for data2 in sections:        \n",
    "            items = data2[\"items\"]\n",
    "            for data3 in items:\n",
    "                prices=data3[\"price\"]\n",
    "                restaurant_id.append(index)\n",
    "                list_of_names.append(data[\"name\"])\n",
    "                list_of_desc.append(data[\"description\"])\n",
    "                list_of_provider_names.append(data[\"provider_name\"])\n",
    "                list_of_section_names.append(data2[\"name\"])\n",
    "                list_of_section_desc.append(data2[\"description\"])\n",
    "                list_of_item_names.append(data3[\"name\"])\n",
    "                list_of_item_desc.append(data3[\"description\"])\n",
    "                for key,value in prices.items():\n",
    "                    if key == \"value\":\n",
    "                        list_of_item_price.append(value)\n",
    "                    else:\n",
    "                        list_of_item_currency.append(value)\n",
    "    \n",
    "    #Created data dictionay for constructing dataframe.\n",
    "    dt={\n",
    "        \"reaturant_id\":restaurant_id,\n",
    "        \"menu_name\":list_of_names,\n",
    "        \"menu_description\":list_of_desc,\n",
    "        \"menu_provider\":list_of_provider_names,\n",
    "        \"section_name\":list_of_section_names,\n",
    "        \"section_description\":list_of_section_desc,\n",
    "        \"item_name\":list_of_item_names,\n",
    "        \"item_description\":list_of_item_desc,\n",
    "        \"item_price\":list_of_item_price,\n",
    "        \"item_price_currency\":list_of_item_currency  \n",
    "    }\n",
    "    \n",
    "    #Constructing a dataframe using pandas and displaying it.\n",
    "    menu_df = pd.DataFrame(data=dt)\n",
    "    display(menu_df)"
   ]
  },
  {
   "cell_type": "code",
   "execution_count": 50,
   "id": "b13f77fa",
   "metadata": {},
   "outputs": [
    {
     "data": {
      "text/html": [
       "<div>\n",
       "<style scoped>\n",
       "    .dataframe tbody tr th:only-of-type {\n",
       "        vertical-align: middle;\n",
       "    }\n",
       "\n",
       "    .dataframe tbody tr th {\n",
       "        vertical-align: top;\n",
       "    }\n",
       "\n",
       "    .dataframe thead th {\n",
       "        text-align: right;\n",
       "    }\n",
       "</style>\n",
       "<table border=\"1\" class=\"dataframe\">\n",
       "  <thead>\n",
       "    <tr style=\"text-align: right;\">\n",
       "      <th></th>\n",
       "      <th>reaturant_id</th>\n",
       "      <th>menu_name</th>\n",
       "      <th>menu_description</th>\n",
       "      <th>menu_provider</th>\n",
       "      <th>section_name</th>\n",
       "      <th>section_description</th>\n",
       "      <th>item_name</th>\n",
       "      <th>item_description</th>\n",
       "      <th>item_price</th>\n",
       "      <th>item_price_currency</th>\n",
       "    </tr>\n",
       "  </thead>\n",
       "  <tbody>\n",
       "    <tr>\n",
       "      <th>0</th>\n",
       "      <td>1</td>\n",
       "      <td>Sample Menu</td>\n",
       "      <td></td>\n",
       "      <td>None</td>\n",
       "      <td>Popular Items</td>\n",
       "      <td></td>\n",
       "      <td>Potato Knish</td>\n",
       "      <td>With gravy.</td>\n",
       "      <td>7.50</td>\n",
       "      <td>USD</td>\n",
       "    </tr>\n",
       "    <tr>\n",
       "      <th>1</th>\n",
       "      <td>1</td>\n",
       "      <td>Sample Menu</td>\n",
       "      <td></td>\n",
       "      <td>None</td>\n",
       "      <td>Popular Items</td>\n",
       "      <td></td>\n",
       "      <td>Dinner Salad</td>\n",
       "      <td></td>\n",
       "      <td>6.75</td>\n",
       "      <td>USD</td>\n",
       "    </tr>\n",
       "    <tr>\n",
       "      <th>2</th>\n",
       "      <td>1</td>\n",
       "      <td>Sample Menu</td>\n",
       "      <td></td>\n",
       "      <td>None</td>\n",
       "      <td>Popular Items</td>\n",
       "      <td></td>\n",
       "      <td>Southwestern Wrap</td>\n",
       "      <td>Chicken fajita salad corn, lettuce, avocado an...</td>\n",
       "      <td>13.00</td>\n",
       "      <td>USD</td>\n",
       "    </tr>\n",
       "    <tr>\n",
       "      <th>3</th>\n",
       "      <td>1</td>\n",
       "      <td>Sample Menu</td>\n",
       "      <td></td>\n",
       "      <td>None</td>\n",
       "      <td>Popular Items</td>\n",
       "      <td></td>\n",
       "      <td>Corned Beef Sandwich - L.a.</td>\n",
       "      <td></td>\n",
       "      <td>12.85</td>\n",
       "      <td>USD</td>\n",
       "    </tr>\n",
       "    <tr>\n",
       "      <th>4</th>\n",
       "      <td>1</td>\n",
       "      <td>Sample Menu</td>\n",
       "      <td></td>\n",
       "      <td>None</td>\n",
       "      <td>Popular Items</td>\n",
       "      <td></td>\n",
       "      <td>Corned Beef Sandwich - N.y.</td>\n",
       "      <td></td>\n",
       "      <td>17.25</td>\n",
       "      <td>USD</td>\n",
       "    </tr>\n",
       "    <tr>\n",
       "      <th>5</th>\n",
       "      <td>1</td>\n",
       "      <td>Sample Menu</td>\n",
       "      <td></td>\n",
       "      <td>None</td>\n",
       "      <td>Popular Items</td>\n",
       "      <td></td>\n",
       "      <td>Korean Bulgogi Sandwich</td>\n",
       "      <td>Lettuce and onions on French roll.</td>\n",
       "      <td>16.45</td>\n",
       "      <td>USD</td>\n",
       "    </tr>\n",
       "  </tbody>\n",
       "</table>\n",
       "</div>"
      ],
      "text/plain": [
       "   reaturant_id    menu_name menu_description menu_provider   section_name  \\\n",
       "0             1  Sample Menu                           None  Popular Items   \n",
       "1             1  Sample Menu                           None  Popular Items   \n",
       "2             1  Sample Menu                           None  Popular Items   \n",
       "3             1  Sample Menu                           None  Popular Items   \n",
       "4             1  Sample Menu                           None  Popular Items   \n",
       "5             1  Sample Menu                           None  Popular Items   \n",
       "\n",
       "  section_description                    item_name  \\\n",
       "0                                     Potato Knish   \n",
       "1                                     Dinner Salad   \n",
       "2                                Southwestern Wrap   \n",
       "3                      Corned Beef Sandwich - L.a.   \n",
       "4                      Corned Beef Sandwich - N.y.   \n",
       "5                          Korean Bulgogi Sandwich   \n",
       "\n",
       "                                    item_description  item_price  \\\n",
       "0                                        With gravy.        7.50   \n",
       "1                                                           6.75   \n",
       "2  Chicken fajita salad corn, lettuce, avocado an...       13.00   \n",
       "3                                                          12.85   \n",
       "4                                                          17.25   \n",
       "5                 Lettuce and onions on French roll.       16.45   \n",
       "\n",
       "  item_price_currency  \n",
       "0                 USD  \n",
       "1                 USD  \n",
       "2                 USD  \n",
       "3                 USD  \n",
       "4                 USD  \n",
       "5                 USD  "
      ]
     },
     "metadata": {},
     "output_type": "display_data"
    }
   ],
   "source": [
    "display_menu_table(df[\"menu\"],1)"
   ]
  },
  {
   "cell_type": "markdown",
   "id": "b1415f5d-2c5e-4cd6-a59a-9a6bb9d04771",
   "metadata": {},
   "source": [
    "### 3.1 Analytical Questions ⚗️ (10 points)\n",
    "\n",
    "**Answer ONLY ONE of the Questions using the Data, i.e, choose between `3.1.1`, `3.1.2` or `3.1.3`**\n",
    "\n",
    "<img src=\"https://media.giphy.com/media/3o7TKVSE5isogWqnwk/giphy.gif\" height=\"250px\" width=\"250px\" alt=\"sherlock holmes\">\n",
    "\n",
    "> Note that the analytical questions may sometimes require converting categorical type columns that are lists or strings into numeric columns. For ex. \"Casual Dining\", \"Fine Dining\"..etc. would require you to generate a categorical encoding of 1,2..etc. For columns that contain lists like `categories`, which contain cuisine tags, a one-hot or multi-hot encoding technique may be required based on the situation. A numeric categorical encoding is required for these string or list based columns since pandas cannot (usually) automatically generate correlations or clusters based on text-based categories\n"
   ]
  },
  {
   "cell_type": "markdown",
   "id": "a7bfa408",
   "metadata": {},
   "source": [
    "#### 3.1.1 Take me out for dinner 🕯️\n",
    "\n",
    "Which areas according to you have the best restaurants in California and why? You can define best based on whatever criteria you wish as long as it involves measuring more than a single column. For ex. You cannot merely claim that the restaurant with the highest rating is the best restaurant."
   ]
  },
  {
   "cell_type": "markdown",
   "id": "6b67c17d",
   "metadata": {},
   "source": [
    "### 🍴 BEST Area to eat out goes to \"West Hollywood\"\n",
    "\n",
    "Their are various reason why West Hollywood is the best place to eat out,\\\n",
    "Because,\n",
    "1. We are already filter out those restaurants less reviews which less people have visited it.\n",
    "2. The Award is not only based on rating and reviews counts of the area but also the categories of food you can have\n",
    "3. One of the best reasons is the area is not pricey insplit of the categories of food it is providing\n",
    "4. Area have decent amount of reatuarants so one can easily hop on another place if not liked "
   ]
  },
  {
   "cell_type": "code",
   "execution_count": 92,
   "id": "b06548de",
   "metadata": {},
   "outputs": [
    {
     "data": {
      "text/plain": [
       "Index(['country', 'subregion', 'city', 'brand_name', 'categories', 'latitude',\n",
       "       'longitude', 'area', 'address', 'menu', 'description', 'public_transit',\n",
       "       'cross_street', 'restaurant_website', 'phone_number', 'primary_cuisine',\n",
       "       'dining_style', 'executive_chef_name', 'parking_info', 'dress_code',\n",
       "       'entertainment', 'operating_hours', 'price_range_id', 'price_range',\n",
       "       'payment_options', 'maximum_days_advance_for_reservation', 'rating',\n",
       "       'rating_count', 'rating_by_feature', 'rating_distribution',\n",
       "       'review_count', 'review_topics', 'awards', 'experiences', 'tags',\n",
       "       'editorial_lists', 'checklist', 'safety_precautions',\n",
       "       'order_online_link', 'facebook', 'menu_url', 'popular_dishes',\n",
       "       'daily_reservation_count', 'restaurant_id'],\n",
       "      dtype='object')"
      ]
     },
     "execution_count": 92,
     "metadata": {},
     "output_type": "execute_result"
    }
   ],
   "source": [
    "#Created a copy of dataframe for answering the above analytical question : Which are is best ??\n",
    "df_anal= df.copy()\n"
   ]
  },
  {
   "cell_type": "markdown",
   "id": "ba601902",
   "metadata": {},
   "source": [
    "Cells below this markdown are just to understand the dataframe and its columns"
   ]
  },
  {
   "cell_type": "code",
   "execution_count": 162,
   "id": "2100f5f4",
   "metadata": {},
   "outputs": [
    {
     "data": {
      "text/plain": [
       "Index(['country', 'subregion', 'city', 'brand_name', 'categories', 'latitude',\n",
       "       'longitude', 'area', 'address', 'menu', 'description', 'public_transit',\n",
       "       'cross_street', 'restaurant_website', 'phone_number', 'primary_cuisine',\n",
       "       'dining_style', 'executive_chef_name', 'parking_info', 'dress_code',\n",
       "       'entertainment', 'operating_hours', 'price_range_id', 'price_range',\n",
       "       'payment_options', 'maximum_days_advance_for_reservation', 'rating',\n",
       "       'rating_count', 'rating_by_feature', 'rating_distribution',\n",
       "       'review_count', 'review_topics', 'awards', 'experiences', 'tags',\n",
       "       'editorial_lists', 'checklist', 'safety_precautions',\n",
       "       'order_online_link', 'facebook', 'menu_url', 'popular_dishes',\n",
       "       'daily_reservation_count', 'restaurant_id', 'number_of_categories'],\n",
       "      dtype='object')"
      ]
     },
     "execution_count": 162,
     "metadata": {},
     "output_type": "execute_result"
    }
   ],
   "source": [
    "df_anal.columns"
   ]
  },
  {
   "cell_type": "code",
   "execution_count": 93,
   "id": "0608d639",
   "metadata": {},
   "outputs": [
    {
     "data": {
      "text/plain": [
       "[{'name': 'Outdoor Dining', 'location': 'Palm Springs / Palm Desert Cities'},\n",
       " {'name': 'Contemporary American',\n",
       "  'location': 'Palm Springs / Palm Desert Cities'},\n",
       " {'name': 'Outdoor Dining', 'location': 'Palm Springs / Palm Desert'},\n",
       " {'name': 'Contemporary American', 'location': 'Palm Springs / Palm Desert'}]"
      ]
     },
     "execution_count": 93,
     "metadata": {},
     "output_type": "execute_result"
    }
   ],
   "source": [
    "df_anal[\"awards\"][10]"
   ]
  },
  {
   "cell_type": "code",
   "execution_count": 94,
   "id": "f9c17631",
   "metadata": {},
   "outputs": [
    {
     "data": {
      "text/plain": [
       "array([ nan,   1.,  14.,  40.,  15., 110.,  18.,  13.,  20.,  12.,  27.,\n",
       "        33.,   4.,   3.,   5.,   2.,  21., 147.,  17.,  22.,  46.,  16.,\n",
       "        62.,   6.,  11.,  68.,  24.,   8.,  10.,   9.,  54.,  38.,  35.,\n",
       "         7.,  32.,  29.,  25.,  37.,  36.,  19.,  72., 130.,  34.,  83.,\n",
       "       140.,  82.,  30.,  45.,  65., 122.,  41., 161.,  78.,  58.,  86.,\n",
       "        23., 104.,  77., 113.,  56.,  39.,  49.,  50.,  75.,  26.,  28.,\n",
       "        95.,  59.,  94., 134.,  43.,  47., 189.,  31., 238.,  42.,  73.,\n",
       "        67.,  92.,  57.,  51., 108., 300., 101., 111., 166.,  53., 174.,\n",
       "       145.,  70.,  99.,  89., 146.,  63., 103.,  91.,  93.,  80., 124.,\n",
       "        55.,  81.,  44.,  87., 107.,  48.,  84.,  98.,  64.,  69.,  61.,\n",
       "        74., 139., 138., 250.,  66., 123.,  52.,  60.,  71., 218., 100.,\n",
       "       109., 127., 389.,  79., 132., 115., 114., 190., 128., 200.,  90.,\n",
       "       162., 164.,  76., 135., 222., 182., 105., 131., 176., 199., 180.,\n",
       "       173., 256., 112., 167., 168., 125., 158., 249., 225., 290.,  88.,\n",
       "        97., 154., 116.])"
      ]
     },
     "execution_count": 94,
     "metadata": {},
     "output_type": "execute_result"
    }
   ],
   "source": [
    "df_anal[\"daily_reservation_count\"].unique()"
   ]
  },
  {
   "cell_type": "code",
   "execution_count": 95,
   "id": "6e5fc1ca",
   "metadata": {},
   "outputs": [
    {
     "data": {
      "text/plain": [
       "array(['Luv2Eat Thai Bistro', \"Jerry's Famous Deli\", 'Terrace Sushi', ...,\n",
       "       'Thirsty Bear', 'Bua Thai Kitchen', 'The Original Chulada Grill'],\n",
       "      dtype=object)"
      ]
     },
     "execution_count": 95,
     "metadata": {},
     "output_type": "execute_result"
    }
   ],
   "source": [
    "df_anal[\"brand_name\"].unique()"
   ]
  },
  {
   "cell_type": "code",
   "execution_count": 96,
   "id": "483637e9",
   "metadata": {},
   "outputs": [
    {
     "data": {
      "text/plain": [
       "array([None,\n",
       "       'The free Emery-go-Round that operates from the MaCarthur BART Station will drop you off at 59th Street and Hollis.<br />This puts you at a distance of one and 1/2 blocks from the restaurant.  You only need to walk one block up 59th, towards the Oakland Hills, to Doyle and make a right.  The Townhouse will be on your left under the big Redwood tree.',\n",
       "       'MUNI bus #1 stops on Sacramento and Mason Streets when heading West, or on Clay and Mason Streets when heading East. <br />Cable cars meet atop Nob Hill. The California Line stops on California and Mason; The Powell Line stops on California and Powell.',\n",
       "       ..., '16th and Mission BART <br />MUNI 33,22,55,22OWL',\n",
       "       'Just 4 blocks from 16th Street Mission BART Station',\n",
       "       'New Montgomery Station MUNI & BART'], dtype=object)"
      ]
     },
     "execution_count": 96,
     "metadata": {},
     "output_type": "execute_result"
    }
   ],
   "source": [
    "df_anal[\"public_transit\"].unique()"
   ]
  },
  {
   "cell_type": "code",
   "execution_count": 97,
   "id": "68cc3ac2",
   "metadata": {},
   "outputs": [],
   "source": [
    "cat_features = [\"dining_style\",\"price_range\"]\n",
    "decision_based_features=[\"categories\",\"primary_cuisine\",\"dining_style\",\"price_range\",\"maximum_days_advance_for_reservation\",\"rating\",\"daily_reservation_count\"]"
   ]
  },
  {
   "cell_type": "markdown",
   "id": "0e096548",
   "metadata": {},
   "source": [
    "Creating a Number_of_Categories column using categories column."
   ]
  },
  {
   "cell_type": "code",
   "execution_count": 98,
   "id": "371329bc",
   "metadata": {},
   "outputs": [
    {
     "data": {
      "text/plain": [
       "0                                          [Thai]\n",
       "1                                      [American]\n",
       "2                                       [Spanish]\n",
       "3                         [Contemporary American]\n",
       "4                                       [Italian]\n",
       "                           ...                   \n",
       "18311                                  [American]\n",
       "18312                                   [Chinese]\n",
       "18313    [Spanish, Tapas / Small Plates, Brewery]\n",
       "18314                 [Thai, Asian, Comfort Food]\n",
       "18315                                   [Mexican]\n",
       "Name: categories, Length: 18316, dtype: object"
      ]
     },
     "execution_count": 98,
     "metadata": {},
     "output_type": "execute_result"
    }
   ],
   "source": [
    "df_anal[\"categories\"]"
   ]
  },
  {
   "cell_type": "code",
   "execution_count": 99,
   "id": "833f7e35",
   "metadata": {},
   "outputs": [
    {
     "data": {
      "text/plain": [
       "['Seafood', 'American', 'Shellfish']"
      ]
     },
     "execution_count": 99,
     "metadata": {},
     "output_type": "execute_result"
    }
   ],
   "source": [
    "df_anal[\"categories\"][9]"
   ]
  },
  {
   "cell_type": "code",
   "execution_count": 100,
   "id": "5f447dba",
   "metadata": {},
   "outputs": [],
   "source": [
    "dictionary ={}\n",
    "label=0\n",
    "for item in df_anal[\"categories\"][:]:\n",
    "    for subitem in item:\n",
    "        if not subitem in dictionary:\n",
    "            dictionary[subitem]=label\n",
    "            label=label+1\n"
   ]
  },
  {
   "cell_type": "code",
   "execution_count": 101,
   "id": "0576a680",
   "metadata": {},
   "outputs": [
    {
     "data": {
      "text/plain": [
       "{'Thai': 0,\n",
       " 'American': 1,\n",
       " 'Spanish': 2,\n",
       " 'Contemporary American': 3,\n",
       " 'Italian': 4,\n",
       " 'Japanese': 5,\n",
       " 'Mexican': 6,\n",
       " 'Brazilian': 7,\n",
       " 'Café': 8,\n",
       " 'Bar / Lounge / Bottle Service': 9,\n",
       " 'Seafood': 10,\n",
       " 'Shellfish': 11,\n",
       " 'Continental': 12,\n",
       " 'Californian': 13,\n",
       " 'Pizzeria': 14,\n",
       " 'Sushi': 15,\n",
       " 'Wine Bar': 16,\n",
       " 'Oyster Bar': 17,\n",
       " 'Bistro': 18,\n",
       " 'Vietnamese': 19,\n",
       " 'Tapas / Small Plates': 20,\n",
       " 'Vegetarian / Vegan': 21,\n",
       " 'French': 22,\n",
       " 'International': 23,\n",
       " 'Comfort Food': 24,\n",
       " 'Asian': 25,\n",
       " 'Middle Eastern': 26,\n",
       " 'English': 27,\n",
       " 'Steak': 28,\n",
       " 'Latin American': 29,\n",
       " 'Grill': 30,\n",
       " 'Austrian': 31,\n",
       " 'Mexican / Southwestern': 32,\n",
       " 'Gastro Pub': 33,\n",
       " 'Steakhouse': 34,\n",
       " 'Prime Rib': 35,\n",
       " 'Latin / Spanish': 36,\n",
       " 'Kosher': 37,\n",
       " 'Mediterranean': 38,\n",
       " 'Turkish': 39,\n",
       " 'Greek': 40,\n",
       " 'Cocktail Bar': 41,\n",
       " 'Dining Bar': 42,\n",
       " 'Breakfast': 43,\n",
       " 'Kaiseki': 44,\n",
       " 'Regional Mexican (Baja Med)': 45,\n",
       " 'Farm-to-table': 46,\n",
       " 'Pan-Asian': 47,\n",
       " 'Vegetarian': 48,\n",
       " 'Indian': 49,\n",
       " 'Regional Mexican': 50,\n",
       " 'Barbecue': 51,\n",
       " 'Creative Japanese': 52,\n",
       " 'Sicilian': 53,\n",
       " 'Contemporary Italian': 54,\n",
       " 'Southwest': 55,\n",
       " 'Shabu-shabu': 56,\n",
       " 'Motsunabe': 57,\n",
       " 'Hawaiian': 58,\n",
       " 'Southern': 59,\n",
       " 'Japanese Speciality': 60,\n",
       " 'Chinese': 61,\n",
       " 'Brewery': 62,\n",
       " 'Fish': 63,\n",
       " 'Dim Sum': 64,\n",
       " 'Modern Tuscan': 65,\n",
       " 'Contemporary Asian': 66,\n",
       " 'Crossover': 67,\n",
       " 'Korean': 68,\n",
       " 'Winery': 69,\n",
       " 'Burgers': 70,\n",
       " 'Dessert': 71,\n",
       " 'North African': 72,\n",
       " 'Peruvian': 73,\n",
       " 'Global, International': 74,\n",
       " 'Pizza Bar': 75,\n",
       " 'Afghan': 76,\n",
       " 'Modern European': 77,\n",
       " 'German': 78,\n",
       " 'Croatian': 79,\n",
       " 'European': 80,\n",
       " 'Persian': 81,\n",
       " 'Fusion / Eclectic': 82,\n",
       " 'Burmese': 83,\n",
       " 'Vegan': 84,\n",
       " 'French American': 85,\n",
       " 'Contemporary French / American': 86,\n",
       " 'Teppanyaki': 87,\n",
       " 'Soul food': 88,\n",
       " 'Pacific Rim': 89,\n",
       " 'New Zealand': 90,\n",
       " 'Wild Game': 91,\n",
       " 'Organic': 92,\n",
       " 'South American': 93,\n",
       " 'Contemporary Mexican': 94,\n",
       " 'Contemporary Korean': 95,\n",
       " 'Chinese (Shanghai)': 96,\n",
       " 'Chinese (Canton)': 97,\n",
       " 'Beer Garden': 98,\n",
       " 'Traditional Mexican': 99,\n",
       " 'Southeast Asian': 100,\n",
       " 'Chinese (Sichuan)': 101,\n",
       " 'Contemporary French': 102,\n",
       " 'Filipino': 103,\n",
       " 'Cuban': 104,\n",
       " 'Balkan style': 105,\n",
       " 'Cajun': 106,\n",
       " 'Home cooking': 107,\n",
       " 'Eastern European': 108,\n",
       " 'Unspecified': 109,\n",
       " 'Sports Bar': 110,\n",
       " 'Market Cuisine': 111,\n",
       " 'Traditional French': 112,\n",
       " 'Sukiyaki': 113,\n",
       " 'Lebanese': 114,\n",
       " 'Brazilian Steakhouse': 115,\n",
       " 'Creative Western': 116,\n",
       " 'Caribbean': 117,\n",
       " 'Belgian': 118,\n",
       " 'Israeli': 119,\n",
       " 'Yakitori': 120,\n",
       " 'Pakistani': 121,\n",
       " 'African': 122,\n",
       " 'Contemporary European': 123,\n",
       " 'Pub': 124,\n",
       " 'Creole / Cajun / Southern': 125,\n",
       " 'Indonesian': 126,\n",
       " 'Argentinean': 127,\n",
       " 'Puerto Rican': 128,\n",
       " 'Country kitchen': 129,\n",
       " 'Meat': 130,\n",
       " 'Contemporary Indian': 131,\n",
       " 'Contemporary Latin': 132,\n",
       " 'Lounge': 133,\n",
       " 'Speakeasy': 134,\n",
       " 'Moroccan': 135,\n",
       " 'Provencal': 136,\n",
       " 'Afternoon Tea': 137,\n",
       " 'Jamaican': 138,\n",
       " 'French / Canadian': 139,\n",
       " 'Yakiniku': 140,\n",
       " 'Irish': 141,\n",
       " 'Halal': 142,\n",
       " 'Eurasian': 143,\n",
       " 'Russian': 144,\n",
       " 'Nepalese': 145,\n",
       " 'Distillery': 146,\n",
       " 'Fondue': 147,\n",
       " 'Bottle Service': 148,\n",
       " 'Bavarian': 149,\n",
       " 'West Indian': 150,\n",
       " 'Portuguese': 151,\n",
       " 'British': 152,\n",
       " 'Ramen': 153,\n",
       " 'Chilean': 154,\n",
       " 'Polynesian': 155,\n",
       " 'Ukrainian': 156,\n",
       " 'Creole': 157,\n",
       " 'Fine cuts': 158,\n",
       " 'Ethiopian': 159,\n",
       " 'Tempura': 160,\n",
       " 'Sri Lankan': 161,\n",
       " 'Basque': 162,\n",
       " 'French / Japanese': 163,\n",
       " 'Deli': 164,\n",
       " 'Tex-Mex': 165,\n",
       " 'Contemporary British': 166,\n",
       " 'Iraqi': 167,\n",
       " 'Colombian': 168,\n",
       " 'Izakaya': 169,\n",
       " 'Hawaii Regional Cuisine': 170,\n",
       " 'Australian': 171,\n",
       " 'Contemporary Southern': 172,\n",
       " 'Regional Italian (Sardinia)': 173,\n",
       " 'Rotisserie Chicken': 174,\n",
       " 'South Indian': 175,\n",
       " 'Northwest': 176,\n",
       " 'Creperie': 177,\n",
       " 'Kyoto-style': 178,\n",
       " 'Palestinian': 179,\n",
       " 'Malaysian': 180,\n",
       " 'Tartar': 181,\n",
       " 'Chinese (Beijing)': 182,\n",
       " 'Washoku': 183,\n",
       " 'Central Asian': 184,\n",
       " 'Scandinavian': 185,\n",
       " 'Southwest French': 186,\n",
       " 'Danish': 187,\n",
       " 'Laotian': 188,\n",
       " 'Hungarian': 189,\n",
       " 'Czech': 190,\n",
       " 'Syrian': 191,\n",
       " 'Swiss': 192,\n",
       " 'Georgian': 193,\n",
       " 'Northwest Spain': 194,\n",
       " 'Regional Japanese': 195,\n",
       " 'Southern African': 196,\n",
       " 'Nordic': 197,\n",
       " 'Catalan': 198,\n",
       " 'Southern Spain': 199,\n",
       " 'Polish': 200,\n",
       " 'West African': 201,\n",
       " 'Low Country': 202,\n",
       " 'Scottish': 203,\n",
       " 'Venezuelan': 204,\n",
       " 'Southwest British': 205,\n",
       " 'Hibachi': 206,\n",
       " 'Indonesian / Malaysian': 207,\n",
       " 'Cambodian': 208,\n",
       " 'Egyptian': 209,\n",
       " 'Traditional Spanish': 210,\n",
       " 'Chinese (Taiwan)': 211,\n",
       " 'Dinner Cruise': 212,\n",
       " 'Kappou': 213,\n",
       " 'Thai French': 214}"
      ]
     },
     "execution_count": 101,
     "metadata": {},
     "output_type": "execute_result"
    }
   ],
   "source": [
    "dictionary"
   ]
  },
  {
   "cell_type": "code",
   "execution_count": 143,
   "id": "4d10b5e8",
   "metadata": {},
   "outputs": [],
   "source": [
    "for index in range(0,len(df_anal[\"categories\"])):\n",
    "    df_anal.loc[index,\"number_of_categories\"]=int(len(df_anal.loc[index,\"categories\"]))\n",
    "            "
   ]
  },
  {
   "cell_type": "code",
   "execution_count": 153,
   "id": "223633c0",
   "metadata": {},
   "outputs": [
    {
     "data": {
      "text/plain": [
       "1.0"
      ]
     },
     "execution_count": 153,
     "metadata": {},
     "output_type": "execute_result"
    }
   ],
   "source": [
    "df_anal[\"number_of_categories\"][0]"
   ]
  },
  {
   "cell_type": "markdown",
   "id": "a0fc6447",
   "metadata": {},
   "source": [
    "Encoding of price range and dining_style column"
   ]
  },
  {
   "cell_type": "code",
   "execution_count": 166,
   "id": "d49316b3",
   "metadata": {},
   "outputs": [
    {
     "data": {
      "text/plain": [
       "array([0, 1, 2, 3, 4])"
      ]
     },
     "execution_count": 166,
     "metadata": {},
     "output_type": "execute_result"
    }
   ],
   "source": [
    "df_anal[\"dining_style\"].unique()"
   ]
  },
  {
   "cell_type": "code",
   "execution_count": 167,
   "id": "03bb24bf",
   "metadata": {},
   "outputs": [
    {
     "data": {
      "text/plain": [
       "array(['$30 and under', '$31 to $50', '$50 and over'], dtype=object)"
      ]
     },
     "execution_count": 167,
     "metadata": {},
     "output_type": "execute_result"
    }
   ],
   "source": [
    "df[\"price_range\"].unique()"
   ]
  },
  {
   "cell_type": "code",
   "execution_count": 107,
   "id": "1522c8d3",
   "metadata": {},
   "outputs": [
    {
     "data": {
      "text/plain": [
       "array([0, 1, 2])"
      ]
     },
     "execution_count": 107,
     "metadata": {},
     "output_type": "execute_result"
    }
   ],
   "source": [
    "df_anal[\"dining_style\"].replace({\n",
    "    'Casual Dining':0,\n",
    "    'Casual Elegant':1,\n",
    "    'Fine Dining':2, \n",
    "    'Home Style':3,\n",
    "    'Elegant Dining':4\n",
    "},inplace=True)\n",
    "df_anal[\"dining_style\"].unique()\n",
    "\n",
    "df_anal[\"price_range\"].replace({\n",
    "    '$30 and under':0,\n",
    "    '$31 to $50':1, \n",
    "    '$50 and over':2\n",
    "},inplace=True)\n",
    "df_anal[\"price_range\"].unique()"
   ]
  },
  {
   "cell_type": "code",
   "execution_count": 108,
   "id": "af384ef9",
   "metadata": {},
   "outputs": [
    {
     "data": {
      "text/plain": [
       "0        0\n",
       "1        0\n",
       "2        0\n",
       "3        0\n",
       "4        0\n",
       "        ..\n",
       "18311    0\n",
       "18312    0\n",
       "18313    0\n",
       "18314    0\n",
       "18315    0\n",
       "Name: dining_style, Length: 18316, dtype: int64"
      ]
     },
     "execution_count": 108,
     "metadata": {},
     "output_type": "execute_result"
    }
   ],
   "source": [
    "df_anal[\"dining_style\"]"
   ]
  },
  {
   "cell_type": "markdown",
   "id": "4ccd34c4",
   "metadata": {},
   "source": [
    "Creating a dataframe for making final decision"
   ]
  },
  {
   "cell_type": "code",
   "execution_count": 161,
   "id": "cd7bb2ec-cf0b-474c-8e22-ec25751f483c",
   "metadata": {},
   "outputs": [
    {
     "data": {
      "text/html": [
       "<div>\n",
       "<style scoped>\n",
       "    .dataframe tbody tr th:only-of-type {\n",
       "        vertical-align: middle;\n",
       "    }\n",
       "\n",
       "    .dataframe tbody tr th {\n",
       "        vertical-align: top;\n",
       "    }\n",
       "\n",
       "    .dataframe thead th {\n",
       "        text-align: right;\n",
       "    }\n",
       "</style>\n",
       "<table border=\"1\" class=\"dataframe\">\n",
       "  <thead>\n",
       "    <tr style=\"text-align: right;\">\n",
       "      <th></th>\n",
       "      <th>number_of_categories</th>\n",
       "      <th>primary_cuisine</th>\n",
       "      <th>maximum_days_advance_for_reservation</th>\n",
       "      <th>dining_style</th>\n",
       "      <th>rating_count</th>\n",
       "      <th>price_range</th>\n",
       "      <th>restaurant_id</th>\n",
       "      <th>daily_reservation_count</th>\n",
       "      <th>rating</th>\n",
       "    </tr>\n",
       "    <tr>\n",
       "      <th>area</th>\n",
       "      <th></th>\n",
       "      <th></th>\n",
       "      <th></th>\n",
       "      <th></th>\n",
       "      <th></th>\n",
       "      <th></th>\n",
       "      <th></th>\n",
       "      <th></th>\n",
       "      <th></th>\n",
       "    </tr>\n",
       "  </thead>\n",
       "  <tbody>\n",
       "    <tr>\n",
       "      <th>Guerneville</th>\n",
       "      <td>3.0</td>\n",
       "      <td>Winery</td>\n",
       "      <td>1</td>\n",
       "      <td>1</td>\n",
       "      <td>54.833333</td>\n",
       "      <td>0</td>\n",
       "      <td>6</td>\n",
       "      <td>2.0</td>\n",
       "      <td>5.0</td>\n",
       "    </tr>\n",
       "    <tr>\n",
       "      <th>Winters</th>\n",
       "      <td>3.0</td>\n",
       "      <td>Steakhouse</td>\n",
       "      <td>1</td>\n",
       "      <td>1</td>\n",
       "      <td>1393.400000</td>\n",
       "      <td>0</td>\n",
       "      <td>5</td>\n",
       "      <td>2.0</td>\n",
       "      <td>4.9</td>\n",
       "    </tr>\n",
       "    <tr>\n",
       "      <th>Upland</th>\n",
       "      <td>3.0</td>\n",
       "      <td>Vegetarian / Vegan</td>\n",
       "      <td>1</td>\n",
       "      <td>2</td>\n",
       "      <td>23.166667</td>\n",
       "      <td>0</td>\n",
       "      <td>30</td>\n",
       "      <td>2.0</td>\n",
       "      <td>4.8</td>\n",
       "    </tr>\n",
       "    <tr>\n",
       "      <th>Highland Park</th>\n",
       "      <td>3.0</td>\n",
       "      <td>Vietnamese</td>\n",
       "      <td>1</td>\n",
       "      <td>4</td>\n",
       "      <td>198.000000</td>\n",
       "      <td>0</td>\n",
       "      <td>15</td>\n",
       "      <td>3.0</td>\n",
       "      <td>5.0</td>\n",
       "    </tr>\n",
       "    <tr>\n",
       "      <th>Murrieta</th>\n",
       "      <td>3.0</td>\n",
       "      <td>Thai</td>\n",
       "      <td>1</td>\n",
       "      <td>1</td>\n",
       "      <td>24.315789</td>\n",
       "      <td>0</td>\n",
       "      <td>19</td>\n",
       "      <td>3.0</td>\n",
       "      <td>4.7</td>\n",
       "    </tr>\n",
       "    <tr>\n",
       "      <th>...</th>\n",
       "      <td>...</td>\n",
       "      <td>...</td>\n",
       "      <td>...</td>\n",
       "      <td>...</td>\n",
       "      <td>...</td>\n",
       "      <td>...</td>\n",
       "      <td>...</td>\n",
       "      <td>...</td>\n",
       "      <td>...</td>\n",
       "    </tr>\n",
       "    <tr>\n",
       "      <th>Sparks</th>\n",
       "      <td>1.0</td>\n",
       "      <td>Chinese</td>\n",
       "      <td>90</td>\n",
       "      <td>0</td>\n",
       "      <td>0.000000</td>\n",
       "      <td>1</td>\n",
       "      <td>1</td>\n",
       "      <td>NaN</td>\n",
       "      <td>0.0</td>\n",
       "    </tr>\n",
       "    <tr>\n",
       "      <th>Staten Island</th>\n",
       "      <td>1.0</td>\n",
       "      <td>American</td>\n",
       "      <td>90</td>\n",
       "      <td>0</td>\n",
       "      <td>0.000000</td>\n",
       "      <td>1</td>\n",
       "      <td>1</td>\n",
       "      <td>NaN</td>\n",
       "      <td>0.0</td>\n",
       "    </tr>\n",
       "    <tr>\n",
       "      <th>Sunset Park</th>\n",
       "      <td>1.0</td>\n",
       "      <td>Japanese</td>\n",
       "      <td>90</td>\n",
       "      <td>0</td>\n",
       "      <td>0.000000</td>\n",
       "      <td>1</td>\n",
       "      <td>1</td>\n",
       "      <td>NaN</td>\n",
       "      <td>0.0</td>\n",
       "    </tr>\n",
       "    <tr>\n",
       "      <th>Tallahassee</th>\n",
       "      <td>1.0</td>\n",
       "      <td>American</td>\n",
       "      <td>90</td>\n",
       "      <td>0</td>\n",
       "      <td>0.000000</td>\n",
       "      <td>1</td>\n",
       "      <td>1</td>\n",
       "      <td>NaN</td>\n",
       "      <td>0.0</td>\n",
       "    </tr>\n",
       "    <tr>\n",
       "      <th>San Francisco Bay Area</th>\n",
       "      <td>1.0</td>\n",
       "      <td>Global, International</td>\n",
       "      <td>90</td>\n",
       "      <td>2</td>\n",
       "      <td>12.000000</td>\n",
       "      <td>2</td>\n",
       "      <td>1</td>\n",
       "      <td>NaN</td>\n",
       "      <td>5.0</td>\n",
       "    </tr>\n",
       "  </tbody>\n",
       "</table>\n",
       "<p>566 rows × 9 columns</p>\n",
       "</div>"
      ],
      "text/plain": [
       "                        number_of_categories        primary_cuisine  \\\n",
       "area                                                                  \n",
       "Guerneville                              3.0                 Winery   \n",
       "Winters                                  3.0             Steakhouse   \n",
       "Upland                                   3.0     Vegetarian / Vegan   \n",
       "Highland Park                            3.0             Vietnamese   \n",
       "Murrieta                                 3.0                   Thai   \n",
       "...                                      ...                    ...   \n",
       "Sparks                                   1.0                Chinese   \n",
       "Staten Island                            1.0               American   \n",
       "Sunset Park                              1.0               Japanese   \n",
       "Tallahassee                              1.0               American   \n",
       "San Francisco Bay Area                   1.0  Global, International   \n",
       "\n",
       "                        maximum_days_advance_for_reservation  dining_style  \\\n",
       "area                                                                         \n",
       "Guerneville                                                1             1   \n",
       "Winters                                                    1             1   \n",
       "Upland                                                     1             2   \n",
       "Highland Park                                              1             4   \n",
       "Murrieta                                                   1             1   \n",
       "...                                                      ...           ...   \n",
       "Sparks                                                    90             0   \n",
       "Staten Island                                             90             0   \n",
       "Sunset Park                                               90             0   \n",
       "Tallahassee                                               90             0   \n",
       "San Francisco Bay Area                                    90             2   \n",
       "\n",
       "                        rating_count  price_range  restaurant_id  \\\n",
       "area                                                               \n",
       "Guerneville                54.833333            0              6   \n",
       "Winters                  1393.400000            0              5   \n",
       "Upland                     23.166667            0             30   \n",
       "Highland Park             198.000000            0             15   \n",
       "Murrieta                   24.315789            0             19   \n",
       "...                              ...          ...            ...   \n",
       "Sparks                      0.000000            1              1   \n",
       "Staten Island               0.000000            1              1   \n",
       "Sunset Park                 0.000000            1              1   \n",
       "Tallahassee                 0.000000            1              1   \n",
       "San Francisco Bay Area     12.000000            2              1   \n",
       "\n",
       "                        daily_reservation_count  rating  \n",
       "area                                                     \n",
       "Guerneville                                 2.0     5.0  \n",
       "Winters                                     2.0     4.9  \n",
       "Upland                                      2.0     4.8  \n",
       "Highland Park                               3.0     5.0  \n",
       "Murrieta                                    3.0     4.7  \n",
       "...                                         ...     ...  \n",
       "Sparks                                      NaN     0.0  \n",
       "Staten Island                               NaN     0.0  \n",
       "Sunset Park                                 NaN     0.0  \n",
       "Tallahassee                                 NaN     0.0  \n",
       "San Francisco Bay Area                      NaN     5.0  \n",
       "\n",
       "[566 rows x 9 columns]"
      ]
     },
     "execution_count": 161,
     "metadata": {},
     "output_type": "execute_result"
    }
   ],
   "source": [
    "df_decision =df_anal.groupby(\"area\").aggregate({\n",
    "    \"number_of_categories\":\"max\",\n",
    "    \"primary_cuisine\":\"max\",\n",
    "    \"maximum_days_advance_for_reservation\":\"min\",\n",
    "    \"dining_style\":\"max\",\n",
    "    \"rating_count\":\"mean\",\n",
    "    \"price_range\":\"min\",\n",
    "    \"restaurant_id\":\"count\",\n",
    "    \"daily_reservation_count\":\"max\",\n",
    "    \"rating\":\"max\" \n",
    "}).sort_values(by=[\"number_of_categories\",\"price_range\",\"maximum_days_advance_for_reservation\",\"daily_reservation_count\",\"rating\"],ascending=[False,True,True,True,False])\n",
    "# df_decision[df_decision[\"primary_cuisine\"]==\"Mexican\"]\n",
    "df_decision"
   ]
  },
  {
   "cell_type": "code",
   "execution_count": null,
   "id": "8479da68",
   "metadata": {},
   "outputs": [],
   "source": [
    "\"\"\"\n",
    "Final Results obtained from the above analytical evaluation is :-\n",
    "Upland Area must be the best area for Vegeterian/Vegan cuisine as :\n",
    "    \n",
    "    1)It has maximum number of restuarants i.e 30 in that area so switching of restuarants can be easy.\n",
    "    2)It has a price range of 0 i.e just under 30 dollars.\n",
    "    3)It has an awesome rating of 4.8.\n",
    "    4)It has rrestuarants with offering maximum 3 categories of cuisine.\n",
    "    5)With just 1 day of advance reservation.\n",
    "    \n",
    "    \n",
    "Thus, you can decide the best area based on the cuisine you want to eat from the above dataframe.\n",
    "\n",
    "\"\"\""
   ]
  },
  {
   "cell_type": "markdown",
   "id": "6fc6b3a5-e173-4720-8a80-216a7bf14e4f",
   "metadata": {},
   "source": [
    "#### 3.1.2 Michelin Approves 🎖️\n",
    "\n",
    "Which columns seem to play / not play a major factor in whether or not the restaurant has an award? Justify your options\n"
   ]
  },
  {
   "cell_type": "code",
   "execution_count": 101,
   "id": "ce8dd39a-ca91-43e2-bfd5-23cf96701efc",
   "metadata": {},
   "outputs": [
    {
     "data": {
      "text/html": [
       "<div>\n",
       "<style scoped>\n",
       "    .dataframe tbody tr th:only-of-type {\n",
       "        vertical-align: middle;\n",
       "    }\n",
       "\n",
       "    .dataframe tbody tr th {\n",
       "        vertical-align: top;\n",
       "    }\n",
       "\n",
       "    .dataframe thead th {\n",
       "        text-align: right;\n",
       "    }\n",
       "</style>\n",
       "<table border=\"1\" class=\"dataframe\">\n",
       "  <thead>\n",
       "    <tr style=\"text-align: right;\">\n",
       "      <th></th>\n",
       "      <th>Most Booked</th>\n",
       "      <th>Best Ambiance</th>\n",
       "      <th>Best Food</th>\n",
       "      <th>Best Overall</th>\n",
       "      <th>Best Service</th>\n",
       "      <th>Best Value</th>\n",
       "      <th>Special Occasion</th>\n",
       "      <th>Romantic</th>\n",
       "      <th>Fit for Foodies</th>\n",
       "      <th>Vibrant Bar Scene</th>\n",
       "    </tr>\n",
       "  </thead>\n",
       "  <tbody>\n",
       "    <tr>\n",
       "      <th>award_count</th>\n",
       "      <td>414</td>\n",
       "      <td>404</td>\n",
       "      <td>402</td>\n",
       "      <td>402</td>\n",
       "      <td>401</td>\n",
       "      <td>400</td>\n",
       "      <td>398</td>\n",
       "      <td>393</td>\n",
       "      <td>391</td>\n",
       "      <td>389</td>\n",
       "    </tr>\n",
       "  </tbody>\n",
       "</table>\n",
       "</div>"
      ],
      "text/plain": [
       "             Most Booked  Best Ambiance  Best Food  Best Overall  \\\n",
       "award_count          414            404        402           402   \n",
       "\n",
       "             Best Service  Best Value  Special Occasion  Romantic  \\\n",
       "award_count           401         400               398       393   \n",
       "\n",
       "             Fit for Foodies  Vibrant Bar Scene  \n",
       "award_count              391                389  "
      ]
     },
     "execution_count": 101,
     "metadata": {},
     "output_type": "execute_result"
    }
   ],
   "source": [
    "# simple dataframe to look at distribution of awards across california by most awarded titles\n",
    "awards_df: pd.DataFrame = pd.json_normalize(df[\"awards\"].dropna().explode()).rename(\n",
    "    columns={\"name\": \"award_name\", \"location\": \"award_location\"}\n",
    ")\n",
    "awards_df[\"award_name\"].value_counts().to_frame().head(10).rename(\n",
    "    columns={\"award_name\": \"award_count\"}\n",
    ").transpose()"
   ]
  },
  {
   "cell_type": "code",
   "execution_count": 19,
   "id": "7910b3c6-88b2-41e3-9d68-a9c669e7ebd0",
   "metadata": {},
   "outputs": [],
   "source": [
    "# ✏️ YOUR CODE HERE"
   ]
  },
  {
   "cell_type": "markdown",
   "id": "a0ad2e08-ca7e-49d0-b57b-451af09bd925",
   "metadata": {},
   "source": [
    "#### 3.1.3 Principal Components 🥨\n",
    "\n",
    "Which columns are highly correlated between each other and can be treated as redundant?\n"
   ]
  },
  {
   "cell_type": "code",
   "execution_count": null,
   "id": "e3481f40-02d8-4fea-a9e5-d55bdbc98479",
   "metadata": {},
   "outputs": [],
   "source": [
    "# ✏️ YOUR CODE HERE - may require encoding categorical string variables"
   ]
  },
  {
   "cell_type": "markdown",
   "id": "54f74bcd",
   "metadata": {},
   "source": [
    "---\n",
    "\n",
    "Good job!\n",
    "\n",
    "<img src=\"https://media.giphy.com/media/qLhxN7Rp3PI8E/giphy.gif\" height=\"250px\" width=\"250px\" alt=\"legend of zelda\">"
   ]
  }
 ],
 "metadata": {
  "kernelspec": {
   "display_name": "Python 3 (ipykernel)",
   "language": "python",
   "name": "python3"
  },
  "language_info": {
   "codemirror_mode": {
    "name": "ipython",
    "version": 3
   },
   "file_extension": ".py",
   "mimetype": "text/x-python",
   "name": "python",
   "nbconvert_exporter": "python",
   "pygments_lexer": "ipython3",
   "version": "3.9.13"
  },
  "toc-showtags": false,
  "vscode": {
   "interpreter": {
    "hash": "5a95100a7d3b4e320db1551c68e327e796fcc58a9206dc42c48870a93129471d"
   }
  }
 },
 "nbformat": 4,
 "nbformat_minor": 5
}
